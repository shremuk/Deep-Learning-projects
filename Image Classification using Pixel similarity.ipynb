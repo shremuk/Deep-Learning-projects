{
 "cells": [
  {
   "cell_type": "code",
   "execution_count": 1,
   "metadata": {
    "id": "Aj-1ywwf9CQg"
   },
   "outputs": [],
   "source": [
    "import torch\n",
    "import time\n",
    "import numpy as np\n",
    "import matplotlib.pyplot as plt"
   ]
  },
  {
   "cell_type": "code",
   "execution_count": 2,
   "metadata": {
    "id": "_WbGuQUHakAD"
   },
   "outputs": [],
   "source": [
    "torch.set_printoptions(precision=4, sci_mode=False)"
   ]
  },
  {
   "cell_type": "markdown",
   "metadata": {
    "id": "BIw2oje09eIs"
   },
   "source": [
    " # <font color = 'dodgerblue'>**Create Tensor**\n",
    " Create a torch Tensor of shape (5, 3) which is filled with zeros. Modify the tensor to set element (0, 2) to 10 and element (2, 0)  to 100."
   ]
  },
  {
   "cell_type": "code",
   "execution_count": 3,
   "metadata": {
    "colab": {
     "base_uri": "https://localhost:8080/"
    },
    "id": "bI9MwTaamhis",
    "outputId": "813777f1-c788-4bdd-8230-fad20d2e5adf"
   },
   "outputs": [
    {
     "name": "stdout",
     "output_type": "stream",
     "text": [
      "tensor([[0., 0., 0.],\n",
      "        [0., 0., 0.],\n",
      "        [0., 0., 0.],\n",
      "        [0., 0., 0.],\n",
      "        [0., 0., 0.]])\n"
     ]
    },
    {
     "data": {
      "text/plain": [
       "tensor([[  0.,   0.,  10.],\n",
       "        [  0.,   0.,   0.],\n",
       "        [100.,   0.,   0.],\n",
       "        [  0.,   0.,   0.],\n",
       "        [  0.,   0.,   0.]])"
      ]
     },
     "execution_count": 3,
     "metadata": {},
     "output_type": "execute_result"
    }
   ],
   "source": [
    "# code here\n",
    "ten = torch.zeros(5, 3)\n",
    "print(ten)\n",
    "ten[0,2] = 10\n",
    "ten[2, 0] = 100\n",
    "ten"
   ]
  },
  {
   "cell_type": "markdown",
   "metadata": {
    "id": "6Eoa6rF80ZTa"
   },
   "source": [
    "# <font color = 'dodgerblue'> **Reshape tensor**\n",
    "You have following tensor as input:\n",
    "\n",
    "```x=torch.tensor([0, 1, 2, 3, 4, 5, 6, 7, 8, 9, 10, 11, 12, 13, 14, 15, 16, 17, 18, 19, 20, 21, 22, 23])```\n",
    "\n",
    "Using only reshaping functions (like view, reshape, transpose, permute), you need to get at the following tensor as output:\n",
    "\n",
    "```\n",
    "tensor([[ 0,  4,  8, 12, 16, 20],\n",
    "        [ 1,  5,  9, 13, 17, 21],\n",
    "        [ 2,  6, 10, 14, 18, 22],\n",
    "        [ 3,  7, 11, 15, 19, 23]])\n",
    "```\n",
    "\n"
   ]
  },
  {
   "cell_type": "code",
   "execution_count": 4,
   "metadata": {
    "id": "LDBQ6kYZ-JRV"
   },
   "outputs": [],
   "source": [
    "x=torch.tensor([0, 1, 2, 3, 4, 5, 6, 7, 8, 9, 10, 11, 12, 13, 14, 15, 16, 17, 18, 19, 20, 21, 22, 23])"
   ]
  },
  {
   "cell_type": "code",
   "execution_count": 5,
   "metadata": {
    "colab": {
     "base_uri": "https://localhost:8080/"
    },
    "id": "b6_SdFS-ke_x",
    "outputId": "7bdb3e99-2f17-4220-e394-fb862f8bfa54"
   },
   "outputs": [
    {
     "data": {
      "text/plain": [
       "tensor([[ 0,  4,  8, 12, 16, 20],\n",
       "        [ 1,  5,  9, 13, 17, 21],\n",
       "        [ 2,  6, 10, 14, 18, 22],\n",
       "        [ 3,  7, 11, 15, 19, 23]])"
      ]
     },
     "execution_count": 5,
     "metadata": {},
     "output_type": "execute_result"
    }
   ],
   "source": [
    "# code here\n",
    "x = torch.reshape(x, (6, 4))\n",
    "x = torch.transpose(x, 0, 1)\n",
    "x"
   ]
  },
  {
   "cell_type": "markdown",
   "metadata": {
    "id": "2TU6l0nC3EfW"
   },
   "source": [
    "# <font color = 'dodgerblue'>**Speedtest for vectorization** </font>\n",
    "\n",
    "Your goal is to measure the speed of linear algebra operations for different levels of vectorization.\n",
    "\n",
    "1. Construct two matrices $A$ and $B$ with Gaussian random entries of size $1024 \\times 1024$.\n",
    "1. Compute $C = A B$ using matrix-matrix operations and report the time. (Hint: Use torch.mm)\n",
    "1. Compute $C = A B$, treating $A$ as a matrix but computing the result for each column of $B$ one at a time. Report the time. (hint use torch.mv inside a for loop)\n",
    "1. Compute $C = A B$, treating $A$ and $B$ as collections of vectors. Report the time. (Hint: use torch.dot inside nested for loop)"
   ]
  },
  {
   "cell_type": "code",
   "execution_count": 6,
   "metadata": {
    "id": "wkKjtX0HH2wz"
   },
   "outputs": [],
   "source": [
    "## Solution 1\n",
    "torch.manual_seed(42) # dod not chnage this\n",
    "A = torch.empty(1024, 1024)\n",
    "B = torch.empty(1024, 1024)"
   ]
  },
  {
   "cell_type": "code",
   "execution_count": 7,
   "metadata": {
    "colab": {
     "base_uri": "https://localhost:8080/"
    },
    "id": "kSMH_j5OD2ZB",
    "outputId": "689abc52-846a-4530-c799-34f4305c8f96"
   },
   "outputs": [
    {
     "name": "stdout",
     "output_type": "stream",
     "text": [
      "Matrix by matrix: 0.14882206916809082 seconds\n"
     ]
    }
   ],
   "source": [
    "## Solution 2\n",
    "start=time.time()\n",
    "\n",
    "C = torch.mm(A, B)\n",
    "\n",
    "print(\"Matrix by matrix: \" + str(time.time()-start) + \" seconds\")"
   ]
  },
  {
   "cell_type": "code",
   "execution_count": 8,
   "metadata": {
    "colab": {
     "base_uri": "https://localhost:8080/"
    },
    "id": "-tU8yGBP-Crk",
    "outputId": "333e7376-e13b-4c81-a05b-b683a5e15754"
   },
   "outputs": [
    {
     "name": "stdout",
     "output_type": "stream",
     "text": [
      "Matrix by vector: 0.2884559631347656 seconds\n"
     ]
    }
   ],
   "source": [
    "## Solution 3\n",
    "C= torch.empty(1024,1024)\n",
    "start = time.time()\n",
    "\n",
    "# b = torch.flatten(B)\n",
    "# print(b.shape)\n",
    "for i, x in enumerate(B):\n",
    "  C[:, i] = torch.mv(A, B[:, i])\n",
    "\n",
    "#print(C)\n",
    "\n",
    "print(\"Matrix by vector: \" + str(time.time()-start) + \" seconds\")"
   ]
  },
  {
   "cell_type": "code",
   "execution_count": 9,
   "metadata": {
    "colab": {
     "base_uri": "https://localhost:8080/"
    },
    "id": "MFgJCFf6DUFK",
    "outputId": "44426521-0eb2-4ab0-896e-c222af6d88e3"
   },
   "outputs": [
    {
     "name": "stdout",
     "output_type": "stream",
     "text": [
      "vector by vector: 23.201615571975708 seconds\n"
     ]
    }
   ],
   "source": [
    "## Solution 4\n",
    "C= torch.empty(1024,1024)\n",
    "start = time.time()\n",
    "\n",
    "for i, x in enumerate(A):\n",
    "    for j, y in enumerate(B):\n",
    "        C[i, j] = torch.dot(A[i], B[j])\n",
    "\n",
    "print(\"vector by vector: \" + str(time.time()-start) + \" seconds\")"
   ]
  },
  {
   "cell_type": "markdown",
   "metadata": {
    "id": "TtYsJM4mJNdE"
   },
   "source": [
    "# <font color = 'dodgerblue'>**Redoing above example using GPU**"
   ]
  },
  {
   "cell_type": "markdown",
   "metadata": {
    "id": "fxJ1UlTf3Efb"
   },
   "source": [
    "<font size = 4, color = 'dodgerblue'> **Using GPUs**\n",
    "\n",
    "How to use GPUs in Google Colab<br>\n",
    "In Google Colab -- Go to Runtime Tab at top -- select change runtime type -- for hardware accelartor choose GPU"
   ]
  },
  {
   "cell_type": "code",
   "execution_count": 10,
   "metadata": {
    "colab": {
     "base_uri": "https://localhost:8080/"
    },
    "id": "_6ilpofMIe1e",
    "outputId": "4d68c6e7-08f5-4b15-e218-1c40c4471aa2"
   },
   "outputs": [
    {
     "name": "stdout",
     "output_type": "stream",
     "text": [
      "cpu\n"
     ]
    }
   ],
   "source": [
    "# Check if GPU is availaible\n",
    "device = torch.device('cuda:0' if torch.cuda.is_available() else 'cpu')\n",
    "print(device)"
   ]
  },
  {
   "cell_type": "code",
   "execution_count": 11,
   "metadata": {
    "id": "4XMhjifbJcu0"
   },
   "outputs": [],
   "source": [
    "## Solution 1\n",
    "torch.manual_seed(42)\n",
    "A= torch.randn((1024, 1024),device=device)\n",
    "B= torch.randn((1024, 1024),device=device)"
   ]
  },
  {
   "cell_type": "code",
   "execution_count": 12,
   "metadata": {
    "colab": {
     "base_uri": "https://localhost:8080/"
    },
    "id": "pn-ZKI7sK9Oh",
    "outputId": "254f2c60-8fb7-4cef-dc51-b9dba2aefaa6"
   },
   "outputs": [
    {
     "name": "stdout",
     "output_type": "stream",
     "text": [
      "Matrix by matrix: 0.05238819122314453 seconds\n"
     ]
    }
   ],
   "source": [
    "## Solution 2\n",
    "start=time.time()\n",
    "\n",
    "C = torch.mm(A, B)\n",
    "\n",
    "print(\"Matrix by matrix: \" + str(time.time()-start) + \" seconds\")"
   ]
  },
  {
   "cell_type": "code",
   "execution_count": 13,
   "metadata": {
    "colab": {
     "base_uri": "https://localhost:8080/"
    },
    "id": "GcHPGEitLL8i",
    "outputId": "a4092972-7658-4c19-b7ff-6bcf0896cfa2"
   },
   "outputs": [
    {
     "name": "stdout",
     "output_type": "stream",
     "text": [
      "Matrix by vector: 0.38759446144104004 seconds\n"
     ]
    }
   ],
   "source": [
    "## Solution 3\n",
    "C= torch.empty(1024,1024, device = device)\n",
    "start = time.time()\n",
    "\n",
    "for i, x in enumerate(B):\n",
    "  C[:, i] = torch.mv(A, B[:, i])\n",
    "\n",
    "print(\"Matrix by vector: \" + str(time.time()-start) + \" seconds\")"
   ]
  },
  {
   "cell_type": "code",
   "execution_count": 14,
   "metadata": {
    "colab": {
     "base_uri": "https://localhost:8080/"
    },
    "id": "wZ5LWSa2Lrdw",
    "outputId": "ee0aea1d-035c-4e64-afb4-29f83711d7a9"
   },
   "outputs": [
    {
     "name": "stdout",
     "output_type": "stream",
     "text": [
      "vector by vector: 18.76826572418213 seconds\n"
     ]
    }
   ],
   "source": [
    "## Solution 4\n",
    "C= torch.empty(1024,1024, device = device)\n",
    "start = time.time()\n",
    "\n",
    "for i, x in enumerate(A):\n",
    "    for j, y in enumerate(B):\n",
    "        C[i, j] = torch.dot(A[i], B[j])\n",
    "\n",
    "print(\"vector by vector: \" + str(time.time()-start) + \" seconds\")"
   ]
  },
  {
   "cell_type": "markdown",
   "metadata": {
    "id": "pW2DEN5x3Efj"
   },
   "source": [
    "# <font color = 'dodgerblue'>**Memory efficient computation**</font>\n",
    "\n",
    "We want to compute $C \\leftarrow A \\cdot B + C$, where $A, B$ and $C$ are all matrices. Implement this in the most memory efficient manner. Pay attention to the following two things:\n",
    "\n",
    "1. Do not allocate new memory for the new value of $C$.\n",
    "1. Do not allocate new memory for intermediate results if possible. Hint: If you implement this correcly the memory location of C given by id(C) will be same in both the cells below."
   ]
  },
  {
   "cell_type": "code",
   "execution_count": 15,
   "metadata": {
    "colab": {
     "base_uri": "https://localhost:8080/"
    },
    "id": "NRzN8HIv3Efj",
    "outputId": "5045682a-9118-4e8e-ee7b-436d2923a7de"
   },
   "outputs": [
    {
     "name": "stdout",
     "output_type": "stream",
     "text": [
      "133451430532800\n"
     ]
    }
   ],
   "source": [
    "A= torch.randn((1000, 1000), device=device)\n",
    "B= torch.randn((1000,1000), device=device)\n",
    "C= torch.randn((1000, 1000), device=device)\n",
    "print(id(C))"
   ]
  },
  {
   "cell_type": "code",
   "execution_count": 16,
   "metadata": {
    "colab": {
     "base_uri": "https://localhost:8080/"
    },
    "id": "C6XC0d70acQ0",
    "outputId": "efe37ecb-23b9-457e-f267-1d4feb59b8d5"
   },
   "outputs": [
    {
     "name": "stdout",
     "output_type": "stream",
     "text": [
      "133451430532800\n"
     ]
    }
   ],
   "source": [
    "C.addmm_(A, B)\n",
    "\n",
    "print(id(C))"
   ]
  },
  {
   "cell_type": "markdown",
   "metadata": {
    "id": "8LV9o3GJ3Efp"
   },
   "source": [
    "<font color = 'dodgerblue'>**Broadcast Operations**\n",
    "\n",
    "In order to perform polynomial fitting we want to compute a design matrix $A$ with\n",
    "\n",
    "$$A_{ij} = x_i^j$$\n",
    "\n",
    "Our goal is to implement this **without a single for loop** entirely using vectorization and broadcast. Here $1 \\leq j \\leq 3$ and $x = \\{1,2,3,4,5\\}$. Implement code that generates following A matrix\n",
    "\n",
    "$$\\begin{bmatrix} 1 & 1 & 1 \\\\ 2 & 4 & 8 \\\\ 3 & 9 & 27 \\\\ 4 & 16 & 64 \\\\ 5 & 25 & 125\\end{bmatrix}$$"
   ]
  },
  {
   "cell_type": "code",
   "execution_count": 17,
   "metadata": {
    "colab": {
     "base_uri": "https://localhost:8080/"
    },
    "id": "cAeYDuGC3Efq",
    "outputId": "c67a2187-f7a1-4833-8d82-6bcd5595486f"
   },
   "outputs": [
    {
     "data": {
      "text/plain": [
       "tensor([[  1.,   1.,   1.],\n",
       "        [  2.,   4.,   8.],\n",
       "        [  3.,   9.,  27.],\n",
       "        [  4.,  16.,  64.],\n",
       "        [  5.,  25., 125.]])"
      ]
     },
     "execution_count": 17,
     "metadata": {},
     "output_type": "execute_result"
    }
   ],
   "source": [
    "broad = torch.arange(1., 6.)\n",
    "#a = torch.square(broad)\n",
    "exp = torch.tensor([2, 2, 2, 2, 2])\n",
    "cub = torch.tensor([3, 3, 3, 3, 3])\n",
    "sq = torch.pow(broad, exp)\n",
    "cube = torch.pow(broad, cub)\n",
    "broad = torch.stack((broad, sq, cube), dim = 0)\n",
    "broad = torch.transpose(broad, 0, 1)\n",
    "broad"
   ]
  },
  {
   "cell_type": "markdown",
   "metadata": {
    "id": "KIGzK9tk2xu7"
   },
   "source": [
    "# <font color = 'dodgerblue'> **Image Classification using - Pixel Similarity**"
   ]
  },
  {
   "cell_type": "markdown",
   "metadata": {
    "id": "Lt4By-uaetgk"
   },
   "source": [
    "## <font color = 'dodgerblue'> **Import libraries**"
   ]
  },
  {
   "cell_type": "code",
   "execution_count": 18,
   "metadata": {
    "id": "sjIbQATg2-iV"
   },
   "outputs": [],
   "source": [
    "# import libraries\n",
    "import torchvision\n",
    "import torchvision.transforms as transforms\n",
    "from pathlib import Path\n",
    "import cv2 as cv\n",
    "from google.colab.patches import cv2_imshow # for image display\n",
    "import pandas as pd"
   ]
  },
  {
   "cell_type": "markdown",
   "metadata": {
    "id": "f3H-yYCoe1qa"
   },
   "source": [
    "## <font color = 'dodgerblue'> **Mount Google Deive**"
   ]
  },
  {
   "cell_type": "code",
   "execution_count": 19,
   "metadata": {
    "colab": {
     "base_uri": "https://localhost:8080/"
    },
    "id": "2CbT_bno5vMe",
    "outputId": "4778d014-3195-41bc-da9f-78758b9d4ad4"
   },
   "outputs": [
    {
     "name": "stdout",
     "output_type": "stream",
     "text": [
      "Mounted at /content/drive\n"
     ]
    }
   ],
   "source": [
    "# mount google drive\n",
    "from google.colab import drive\n",
    "drive.mount('/content/drive')"
   ]
  },
  {
   "cell_type": "code",
   "execution_count": 20,
   "metadata": {
    "id": "m220qfuB5xID"
   },
   "outputs": [],
   "source": [
    "data_folder = Path('/content/drive/MyDrive/Colab Notebooks/BUAN 6382/Data')"
   ]
  },
  {
   "cell_type": "markdown",
   "metadata": {
    "id": "nGGKt-TDfxtS"
   },
   "source": [
    "## <font color = 'dodgerblue'>**Download MNIST training Data**\n",
    "The MNIST is a dataset of  handwritten digits, available from this page http://yann.lecun.com/exdb/mnist/. It has a training set of 60,000 examples, and a test set of 10,000 examples. In this task we will use images for digits 3 and 7."
   ]
  },
  {
   "cell_type": "code",
   "execution_count": 21,
   "metadata": {
    "id": "KLuNjyzj51_K"
   },
   "outputs": [],
   "source": [
    "trainset = torchvision.datasets.MNIST(root = data_folder,\n",
    "                                      train = True,\n",
    "                                      download = True,\n",
    "                                      )"
   ]
  },
  {
   "cell_type": "markdown",
   "metadata": {
    "id": "nntnpojIhJQ4"
   },
   "source": [
    "## <font color = 'dodgerblue'>**Subset of images**"
   ]
  },
  {
   "cell_type": "markdown",
   "metadata": {
    "id": "8EQIc6Lpgjbt"
   },
   "source": [
    "trainset.data has images and trainset.targets has the labels. Below we will create a Boolean mask for digits 3 and 7. We will use this mask to extract subset of images."
   ]
  },
  {
   "cell_type": "code",
   "execution_count": 22,
   "metadata": {
    "id": "jNIznfUi6iFh"
   },
   "outputs": [],
   "source": [
    "# get the mask\n",
    "idx3 = trainset.targets==3\n",
    "idx7 = trainset.targets==7"
   ]
  },
  {
   "cell_type": "code",
   "execution_count": 23,
   "metadata": {
    "colab": {
     "base_uri": "https://localhost:8080/"
    },
    "id": "QexXdM2chff9",
    "outputId": "467d1db2-72bb-4c24-f4cb-dfbc325137db"
   },
   "outputs": [
    {
     "data": {
      "text/plain": [
       "tensor([False, False, False,  ..., False, False, False])"
      ]
     },
     "execution_count": 23,
     "metadata": {},
     "output_type": "execute_result"
    }
   ],
   "source": [
    "idx3 # This take the value of True wherever the label was 3 and False otherwise"
   ]
  },
  {
   "cell_type": "code",
   "execution_count": 24,
   "metadata": {
    "id": "deJsd2nH8agO"
   },
   "outputs": [],
   "source": [
    "threes = trainset.data[idx3] # use Boolean mask to extract images for digit three\n",
    "sevens = trainset.data[idx7] # use Boolean mask to extract images for digit seven"
   ]
  },
  {
   "cell_type": "code",
   "execution_count": 25,
   "metadata": {
    "colab": {
     "base_uri": "https://localhost:8080/"
    },
    "id": "vbNTRilH9lAE",
    "outputId": "93becd16-5375-4105-b2c7-b5b2694d7339"
   },
   "outputs": [
    {
     "data": {
      "text/plain": [
       "(torch.Size([6131, 28, 28]), torch.Size([6265, 28, 28]))"
      ]
     },
     "execution_count": 25,
     "metadata": {},
     "output_type": "execute_result"
    }
   ],
   "source": [
    "threes.shape, sevens.shape"
   ]
  },
  {
   "cell_type": "code",
   "execution_count": 26,
   "metadata": {
    "colab": {
     "base_uri": "https://localhost:8080/"
    },
    "id": "dSvRnZ-Z_uOu",
    "outputId": "6df46c56-3ab6-4227-cd57-4c2613594fa1"
   },
   "outputs": [
    {
     "data": {
      "text/plain": [
       "torch.Tensor"
      ]
     },
     "execution_count": 26,
     "metadata": {},
     "output_type": "execute_result"
    }
   ],
   "source": [
    "type(threes[0])"
   ]
  },
  {
   "cell_type": "code",
   "execution_count": 27,
   "metadata": {
    "id": "WR76cheTAWSX"
   },
   "outputs": [],
   "source": [
    "# get a sample image\n",
    "sample_img_3 = threes[0]"
   ]
  },
  {
   "cell_type": "code",
   "execution_count": 28,
   "metadata": {
    "colab": {
     "base_uri": "https://localhost:8080/"
    },
    "id": "RpxJyQRBiYfd",
    "outputId": "d2150667-009e-4724-c808-aeb9da978a96"
   },
   "outputs": [
    {
     "data": {
      "text/plain": [
       "torch.Size([28, 28])"
      ]
     },
     "execution_count": 28,
     "metadata": {},
     "output_type": "execute_result"
    }
   ],
   "source": [
    "sample_img_3.shape"
   ]
  },
  {
   "cell_type": "code",
   "execution_count": 29,
   "metadata": {
    "colab": {
     "base_uri": "https://localhost:8080/"
    },
    "id": "llYbkj3xdonI",
    "outputId": "df375047-21fe-4913-9f0a-6ebe2c206e33"
   },
   "outputs": [
    {
     "data": {
      "text/plain": [
       "torch.Size([28, 28])"
      ]
     },
     "execution_count": 29,
     "metadata": {},
     "output_type": "execute_result"
    }
   ],
   "source": [
    "# get a sample image\n",
    "sample_img_7 = sevens[0]\n",
    "sample_img_7.shape"
   ]
  },
  {
   "cell_type": "markdown",
   "metadata": {
    "id": "BtyVCMlDiiv9"
   },
   "source": [
    "### <font color = 'dodgerblue'>**Task1**\n",
    "Reshape the image so that it has following  shape: 28, 28, 1. Then convert the tensor to numpy array."
   ]
  },
  {
   "cell_type": "code",
   "execution_count": 30,
   "metadata": {
    "id": "AhquhuqPidpL"
   },
   "outputs": [],
   "source": [
    "sample_img_3_numpy =  sample_img_3.unsqueeze(2).numpy()\n",
    "#sample_img_3_numpy"
   ]
  },
  {
   "cell_type": "code",
   "execution_count": 31,
   "metadata": {
    "colab": {
     "base_uri": "https://localhost:8080/",
     "height": 45
    },
    "id": "CCGEscWoJfbJ",
    "outputId": "7df3a758-854b-4a72-e09e-1f10bbc4951b"
   },
   "outputs": [
    {
     "data": {
      "image/png": "[encoded data removed]",
      "text/plain": [
       "<PIL.Image.Image image mode=RGB size=28x28>"
      ]
     },
     "metadata": {},
     "output_type": "display_data"
    }
   ],
   "source": [
    "# let us look at the image\n",
    "# the above steps were needed because the function cv2_imshow needs a three dimenional numpy array of the\n",
    "# shape H x W  X C (height, width, number of channels). The number of channels for black and white images is 1.\n",
    "cv2_imshow(sample_img_3_numpy)"
   ]
  },
  {
   "cell_type": "markdown",
   "metadata": {
    "id": "DLCTtP3bjtT8"
   },
   "source": [
    "### <font color = 'dodgerblue'>**Task2**\n",
    "\n",
    "Repeat the above steps to show the first image for digit 7.\n",
    " - Get the first image.\n",
    " - Reshape the image to 28, 28, 1\n",
    " - Convert the tensor to numpy array\n"
   ]
  },
  {
   "cell_type": "code",
   "execution_count": 32,
   "metadata": {
    "colab": {
     "base_uri": "https://localhost:8080/",
     "height": 45
    },
    "id": "pnbVQjsrQ1Fa",
    "outputId": "ceff5d52-8ab4-47d3-e99a-c9e298379375"
   },
   "outputs": [
    {
     "data": {
      "image/png": "[encoded data removed]",
      "text/plain": [
       "<PIL.Image.Image image mode=RGB size=28x28>"
      ]
     },
     "metadata": {},
     "output_type": "display_data"
    }
   ],
   "source": [
    "sample_img_7_numpy =  sample_img_7.unsqueeze(2).numpy()\n",
    "cv2_imshow(sample_img_7_numpy)"
   ]
  },
  {
   "cell_type": "markdown",
   "metadata": {
    "id": "f83QfllOke76"
   },
   "source": [
    "## <font color = 'dodgerblue'>**Visualizing images as pixel values**"
   ]
  },
  {
   "cell_type": "markdown",
   "metadata": {
    "id": "uYxk1inRkxlf"
   },
   "source": [
    "<font color = 'dodgerblue'>\n",
    "- In a computer, images are stored in the form of matrices. The numbers in the matrix are called \"pixel values.\"\n",
    "- These pixel values show how bright each pixel is.\n",
    "- 0 means \"black,\" and 255 means \"white.\"\n",
    "- The matrix of numbers is called the channel, and there is only one channel in a grayscale image.\n",
    "- For color inages , we have three channels(RGB - Red, Green Blue). That is we need three matrices to store color images.\n",
    "</font>"
   ]
  },
  {
   "cell_type": "code",
   "execution_count": 33,
   "metadata": {
    "colab": {
     "base_uri": "https://localhost:8080/",
     "height": 645
    },
    "id": "XC2brA7VAwcP",
    "outputId": "b2e15741-5720-4869-dc6a-243d7c81c4bb"
   },
   "outputs": [
    {
     "data": {
      "text/html": [
       "<style type=\"text/css\">\n",
       "#T_85eea_row0_col0, #T_85eea_row0_col1, #T_85eea_row0_col2, #T_85eea_row0_col3, #T_85eea_row0_col4, #T_85eea_row0_col5, #T_85eea_row0_col6, #T_85eea_row0_col7, #T_85eea_row0_col8, #T_85eea_row0_col9, #T_85eea_row0_col10, #T_85eea_row0_col11, #T_85eea_row0_col12, #T_85eea_row0_col13, #T_85eea_row0_col14, #T_85eea_row1_col0, #T_85eea_row1_col1, #T_85eea_row1_col2, #T_85eea_row1_col3, #T_85eea_row1_col4, #T_85eea_row1_col5, #T_85eea_row1_col6, #T_85eea_row1_col7, #T_85eea_row1_col8, #T_85eea_row1_col9, #T_85eea_row1_col10, #T_85eea_row1_col11, #T_85eea_row1_col12, #T_85eea_row1_col13, #T_85eea_row1_col14, #T_85eea_row2_col0, #T_85eea_row2_col1, #T_85eea_row2_col2, #T_85eea_row2_col3, #T_85eea_row2_col4, #T_85eea_row2_col5, #T_85eea_row2_col6, #T_85eea_row2_col7, #T_85eea_row2_col8, #T_85eea_row2_col9, #T_85eea_row2_col10, #T_85eea_row2_col11, #T_85eea_row2_col12, #T_85eea_row2_col13, #T_85eea_row2_col14, #T_85eea_row3_col0, #T_85eea_row3_col1, #T_85eea_row3_col2, #T_85eea_row3_col3, #T_85eea_row3_col4, #T_85eea_row3_col5, #T_85eea_row3_col6, #T_85eea_row3_col7, #T_85eea_row3_col8, #T_85eea_row3_col9, #T_85eea_row3_col10, #T_85eea_row3_col11, #T_85eea_row3_col12, #T_85eea_row3_col13, #T_85eea_row3_col14, #T_85eea_row4_col0, #T_85eea_row4_col1, #T_85eea_row4_col2, #T_85eea_row4_col3, #T_85eea_row4_col4, #T_85eea_row4_col5, #T_85eea_row4_col6, #T_85eea_row4_col7, #T_85eea_row4_col8, #T_85eea_row4_col9, #T_85eea_row4_col10, #T_85eea_row4_col11, #T_85eea_row4_col12, #T_85eea_row4_col13, #T_85eea_row4_col14, #T_85eea_row5_col0, #T_85eea_row5_col1, #T_85eea_row5_col2, #T_85eea_row5_col3, #T_85eea_row5_col4, #T_85eea_row5_col5, #T_85eea_row5_col6, #T_85eea_row5_col7, #T_85eea_row5_col8, #T_85eea_row5_col9, #T_85eea_row5_col10, #T_85eea_row5_col11, #T_85eea_row5_col12, #T_85eea_row5_col13, #T_85eea_row5_col14, #T_85eea_row6_col0, #T_85eea_row6_col1, #T_85eea_row6_col2, #T_85eea_row6_col3, #T_85eea_row6_col4, #T_85eea_row6_col5, #T_85eea_row6_col6, #T_85eea_row6_col7, #T_85eea_row6_col8, #T_85eea_row6_col9, #T_85eea_row6_col10, #T_85eea_row6_col11, #T_85eea_row6_col12, #T_85eea_row6_col13, #T_85eea_row6_col14, #T_85eea_row7_col0, #T_85eea_row7_col1, #T_85eea_row7_col2, #T_85eea_row7_col3, #T_85eea_row7_col4, #T_85eea_row7_col5, #T_85eea_row7_col6, #T_85eea_row7_col7, #T_85eea_row7_col8, #T_85eea_row7_col9, #T_85eea_row7_col10, #T_85eea_row7_col11, #T_85eea_row7_col12, #T_85eea_row7_col13, #T_85eea_row7_col14, #T_85eea_row8_col0, #T_85eea_row8_col1, #T_85eea_row8_col2, #T_85eea_row8_col3, #T_85eea_row8_col4, #T_85eea_row8_col5, #T_85eea_row8_col6, #T_85eea_row8_col7, #T_85eea_row8_col8, #T_85eea_row8_col9, #T_85eea_row8_col10, #T_85eea_row8_col11, #T_85eea_row8_col12, #T_85eea_row8_col13, #T_85eea_row8_col14, #T_85eea_row9_col0, #T_85eea_row9_col1, #T_85eea_row9_col2, #T_85eea_row9_col3, #T_85eea_row9_col4, #T_85eea_row9_col5, #T_85eea_row9_col6, #T_85eea_row9_col7, #T_85eea_row9_col8, #T_85eea_row9_col9, #T_85eea_row9_col10, #T_85eea_row9_col11, #T_85eea_row9_col12, #T_85eea_row9_col13, #T_85eea_row9_col14, #T_85eea_row10_col0, #T_85eea_row10_col1, #T_85eea_row10_col2, #T_85eea_row10_col3, #T_85eea_row10_col4, #T_85eea_row10_col5, #T_85eea_row10_col6, #T_85eea_row10_col7, #T_85eea_row10_col8, #T_85eea_row10_col9, #T_85eea_row10_col10, #T_85eea_row10_col11, #T_85eea_row10_col12, #T_85eea_row10_col13, #T_85eea_row10_col14, #T_85eea_row11_col0, #T_85eea_row11_col1, #T_85eea_row11_col2, #T_85eea_row11_col3, #T_85eea_row11_col4, #T_85eea_row11_col5, #T_85eea_row11_col6, #T_85eea_row11_col7, #T_85eea_row11_col8, #T_85eea_row11_col9, #T_85eea_row11_col10, #T_85eea_row11_col11, #T_85eea_row11_col12, #T_85eea_row11_col13, #T_85eea_row11_col14, #T_85eea_row12_col0, #T_85eea_row12_col1, #T_85eea_row12_col2, #T_85eea_row12_col3, #T_85eea_row12_col4, #T_85eea_row12_col5, #T_85eea_row12_col6, #T_85eea_row12_col7, #T_85eea_row12_col8, #T_85eea_row12_col9, #T_85eea_row12_col10, #T_85eea_row12_col11, #T_85eea_row12_col12, #T_85eea_row12_col13, #T_85eea_row12_col14, #T_85eea_row13_col0, #T_85eea_row13_col1, #T_85eea_row13_col2, #T_85eea_row13_col3, #T_85eea_row13_col4, #T_85eea_row13_col5, #T_85eea_row13_col6, #T_85eea_row13_col7, #T_85eea_row13_col8, #T_85eea_row13_col9, #T_85eea_row13_col10, #T_85eea_row13_col11, #T_85eea_row13_col12, #T_85eea_row13_col13, #T_85eea_row13_col14, #T_85eea_row14_col0, #T_85eea_row14_col1, #T_85eea_row14_col2, #T_85eea_row14_col3, #T_85eea_row14_col4, #T_85eea_row14_col5, #T_85eea_row14_col6, #T_85eea_row14_col7, #T_85eea_row14_col8, #T_85eea_row14_col9, #T_85eea_row14_col10, #T_85eea_row14_col11, #T_85eea_row14_col12, #T_85eea_row14_col13, #T_85eea_row14_col14, #T_85eea_row15_col0, #T_85eea_row15_col1, #T_85eea_row15_col2, #T_85eea_row15_col3, #T_85eea_row15_col4, #T_85eea_row15_col5, #T_85eea_row15_col6, #T_85eea_row15_col7, #T_85eea_row15_col8, #T_85eea_row15_col9, #T_85eea_row15_col10, #T_85eea_row15_col11, #T_85eea_row15_col12, #T_85eea_row15_col13, #T_85eea_row15_col14, #T_85eea_row16_col0, #T_85eea_row16_col1, #T_85eea_row16_col2, #T_85eea_row16_col3, #T_85eea_row16_col4, #T_85eea_row16_col5, #T_85eea_row16_col6, #T_85eea_row16_col7, #T_85eea_row16_col8, #T_85eea_row16_col9, #T_85eea_row16_col10, #T_85eea_row16_col11, #T_85eea_row16_col12, #T_85eea_row16_col13, #T_85eea_row16_col14, #T_85eea_row17_col0, #T_85eea_row17_col1, #T_85eea_row17_col2, #T_85eea_row17_col3, #T_85eea_row17_col4, #T_85eea_row17_col5, #T_85eea_row17_col6, #T_85eea_row17_col7, #T_85eea_row17_col8, #T_85eea_row17_col9, #T_85eea_row17_col10, #T_85eea_row17_col11, #T_85eea_row17_col12, #T_85eea_row17_col13, #T_85eea_row17_col14, #T_85eea_row18_col0, #T_85eea_row18_col1, #T_85eea_row18_col2, #T_85eea_row18_col3, #T_85eea_row18_col4, #T_85eea_row18_col5, #T_85eea_row18_col6, #T_85eea_row18_col7, #T_85eea_row18_col8, #T_85eea_row18_col9, #T_85eea_row18_col10, #T_85eea_row18_col11, #T_85eea_row18_col12, #T_85eea_row18_col13, #T_85eea_row18_col14 {\n",
       "  font-size: 8pt;\n",
       "}\n",
       "</style>\n",
       "<table id=\"T_85eea\" class=\"dataframe\">\n",
       "  <thead>\n",
       "    <tr>\n",
       "      <th class=\"blank level0\" >&nbsp;</th>\n",
       "      <th id=\"T_85eea_level0_col0\" class=\"col_heading level0 col0\" >0</th>\n",
       "      <th id=\"T_85eea_level0_col1\" class=\"col_heading level0 col1\" >1</th>\n",
       "      <th id=\"T_85eea_level0_col2\" class=\"col_heading level0 col2\" >2</th>\n",
       "      <th id=\"T_85eea_level0_col3\" class=\"col_heading level0 col3\" >3</th>\n",
       "      <th id=\"T_85eea_level0_col4\" class=\"col_heading level0 col4\" >4</th>\n",
       "      <th id=\"T_85eea_level0_col5\" class=\"col_heading level0 col5\" >5</th>\n",
       "      <th id=\"T_85eea_level0_col6\" class=\"col_heading level0 col6\" >6</th>\n",
       "      <th id=\"T_85eea_level0_col7\" class=\"col_heading level0 col7\" >7</th>\n",
       "      <th id=\"T_85eea_level0_col8\" class=\"col_heading level0 col8\" >8</th>\n",
       "      <th id=\"T_85eea_level0_col9\" class=\"col_heading level0 col9\" >9</th>\n",
       "      <th id=\"T_85eea_level0_col10\" class=\"col_heading level0 col10\" >10</th>\n",
       "      <th id=\"T_85eea_level0_col11\" class=\"col_heading level0 col11\" >11</th>\n",
       "      <th id=\"T_85eea_level0_col12\" class=\"col_heading level0 col12\" >12</th>\n",
       "      <th id=\"T_85eea_level0_col13\" class=\"col_heading level0 col13\" >13</th>\n",
       "      <th id=\"T_85eea_level0_col14\" class=\"col_heading level0 col14\" >14</th>\n",
       "    </tr>\n",
       "  </thead>\n",
       "  <tbody>\n",
       "    <tr>\n",
       "      <th id=\"T_85eea_level0_row0\" class=\"row_heading level0 row0\" >0</th>\n",
       "      <td id=\"T_85eea_row0_col0\" class=\"data row0 col0\" >0</td>\n",
       "      <td id=\"T_85eea_row0_col1\" class=\"data row0 col1\" >0</td>\n",
       "      <td id=\"T_85eea_row0_col2\" class=\"data row0 col2\" >0</td>\n",
       "      <td id=\"T_85eea_row0_col3\" class=\"data row0 col3\" >0</td>\n",
       "      <td id=\"T_85eea_row0_col4\" class=\"data row0 col4\" >38</td>\n",
       "      <td id=\"T_85eea_row0_col5\" class=\"data row0 col5\" >43</td>\n",
       "      <td id=\"T_85eea_row0_col6\" class=\"data row0 col6\" >105</td>\n",
       "      <td id=\"T_85eea_row0_col7\" class=\"data row0 col7\" >255</td>\n",
       "      <td id=\"T_85eea_row0_col8\" class=\"data row0 col8\" >253</td>\n",
       "      <td id=\"T_85eea_row0_col9\" class=\"data row0 col9\" >253</td>\n",
       "      <td id=\"T_85eea_row0_col10\" class=\"data row0 col10\" >253</td>\n",
       "      <td id=\"T_85eea_row0_col11\" class=\"data row0 col11\" >253</td>\n",
       "      <td id=\"T_85eea_row0_col12\" class=\"data row0 col12\" >253</td>\n",
       "      <td id=\"T_85eea_row0_col13\" class=\"data row0 col13\" >174</td>\n",
       "      <td id=\"T_85eea_row0_col14\" class=\"data row0 col14\" >6</td>\n",
       "    </tr>\n",
       "    <tr>\n",
       "      <th id=\"T_85eea_level0_row1\" class=\"row_heading level0 row1\" >1</th>\n",
       "      <td id=\"T_85eea_row1_col0\" class=\"data row1 col0\" >0</td>\n",
       "      <td id=\"T_85eea_row1_col1\" class=\"data row1 col1\" >0</td>\n",
       "      <td id=\"T_85eea_row1_col2\" class=\"data row1 col2\" >43</td>\n",
       "      <td id=\"T_85eea_row1_col3\" class=\"data row1 col3\" >139</td>\n",
       "      <td id=\"T_85eea_row1_col4\" class=\"data row1 col4\" >224</td>\n",
       "      <td id=\"T_85eea_row1_col5\" class=\"data row1 col5\" >226</td>\n",
       "      <td id=\"T_85eea_row1_col6\" class=\"data row1 col6\" >252</td>\n",
       "      <td id=\"T_85eea_row1_col7\" class=\"data row1 col7\" >253</td>\n",
       "      <td id=\"T_85eea_row1_col8\" class=\"data row1 col8\" >252</td>\n",
       "      <td id=\"T_85eea_row1_col9\" class=\"data row1 col9\" >252</td>\n",
       "      <td id=\"T_85eea_row1_col10\" class=\"data row1 col10\" >252</td>\n",
       "      <td id=\"T_85eea_row1_col11\" class=\"data row1 col11\" >252</td>\n",
       "      <td id=\"T_85eea_row1_col12\" class=\"data row1 col12\" >252</td>\n",
       "      <td id=\"T_85eea_row1_col13\" class=\"data row1 col13\" >252</td>\n",
       "      <td id=\"T_85eea_row1_col14\" class=\"data row1 col14\" >158</td>\n",
       "    </tr>\n",
       "    <tr>\n",
       "      <th id=\"T_85eea_level0_row2\" class=\"row_heading level0 row2\" >2</th>\n",
       "      <td id=\"T_85eea_row2_col0\" class=\"data row2 col0\" >0</td>\n",
       "      <td id=\"T_85eea_row2_col1\" class=\"data row2 col1\" >0</td>\n",
       "      <td id=\"T_85eea_row2_col2\" class=\"data row2 col2\" >178</td>\n",
       "      <td id=\"T_85eea_row2_col3\" class=\"data row2 col3\" >252</td>\n",
       "      <td id=\"T_85eea_row2_col4\" class=\"data row2 col4\" >252</td>\n",
       "      <td id=\"T_85eea_row2_col5\" class=\"data row2 col5\" >252</td>\n",
       "      <td id=\"T_85eea_row2_col6\" class=\"data row2 col6\" >252</td>\n",
       "      <td id=\"T_85eea_row2_col7\" class=\"data row2 col7\" >253</td>\n",
       "      <td id=\"T_85eea_row2_col8\" class=\"data row2 col8\" >252</td>\n",
       "      <td id=\"T_85eea_row2_col9\" class=\"data row2 col9\" >252</td>\n",
       "      <td id=\"T_85eea_row2_col10\" class=\"data row2 col10\" >252</td>\n",
       "      <td id=\"T_85eea_row2_col11\" class=\"data row2 col11\" >252</td>\n",
       "      <td id=\"T_85eea_row2_col12\" class=\"data row2 col12\" >252</td>\n",
       "      <td id=\"T_85eea_row2_col13\" class=\"data row2 col13\" >252</td>\n",
       "      <td id=\"T_85eea_row2_col14\" class=\"data row2 col14\" >252</td>\n",
       "    </tr>\n",
       "    <tr>\n",
       "      <th id=\"T_85eea_level0_row3\" class=\"row_heading level0 row3\" >3</th>\n",
       "      <td id=\"T_85eea_row3_col0\" class=\"data row3 col0\" >0</td>\n",
       "      <td id=\"T_85eea_row3_col1\" class=\"data row3 col1\" >0</td>\n",
       "      <td id=\"T_85eea_row3_col2\" class=\"data row3 col2\" >109</td>\n",
       "      <td id=\"T_85eea_row3_col3\" class=\"data row3 col3\" >252</td>\n",
       "      <td id=\"T_85eea_row3_col4\" class=\"data row3 col4\" >252</td>\n",
       "      <td id=\"T_85eea_row3_col5\" class=\"data row3 col5\" >230</td>\n",
       "      <td id=\"T_85eea_row3_col6\" class=\"data row3 col6\" >132</td>\n",
       "      <td id=\"T_85eea_row3_col7\" class=\"data row3 col7\" >133</td>\n",
       "      <td id=\"T_85eea_row3_col8\" class=\"data row3 col8\" >132</td>\n",
       "      <td id=\"T_85eea_row3_col9\" class=\"data row3 col9\" >132</td>\n",
       "      <td id=\"T_85eea_row3_col10\" class=\"data row3 col10\" >189</td>\n",
       "      <td id=\"T_85eea_row3_col11\" class=\"data row3 col11\" >252</td>\n",
       "      <td id=\"T_85eea_row3_col12\" class=\"data row3 col12\" >252</td>\n",
       "      <td id=\"T_85eea_row3_col13\" class=\"data row3 col13\" >252</td>\n",
       "      <td id=\"T_85eea_row3_col14\" class=\"data row3 col14\" >252</td>\n",
       "    </tr>\n",
       "    <tr>\n",
       "      <th id=\"T_85eea_level0_row4\" class=\"row_heading level0 row4\" >4</th>\n",
       "      <td id=\"T_85eea_row4_col0\" class=\"data row4 col0\" >0</td>\n",
       "      <td id=\"T_85eea_row4_col1\" class=\"data row4 col1\" >0</td>\n",
       "      <td id=\"T_85eea_row4_col2\" class=\"data row4 col2\" >4</td>\n",
       "      <td id=\"T_85eea_row4_col3\" class=\"data row4 col3\" >29</td>\n",
       "      <td id=\"T_85eea_row4_col4\" class=\"data row4 col4\" >29</td>\n",
       "      <td id=\"T_85eea_row4_col5\" class=\"data row4 col5\" >24</td>\n",
       "      <td id=\"T_85eea_row4_col6\" class=\"data row4 col6\" >0</td>\n",
       "      <td id=\"T_85eea_row4_col7\" class=\"data row4 col7\" >0</td>\n",
       "      <td id=\"T_85eea_row4_col8\" class=\"data row4 col8\" >0</td>\n",
       "      <td id=\"T_85eea_row4_col9\" class=\"data row4 col9\" >0</td>\n",
       "      <td id=\"T_85eea_row4_col10\" class=\"data row4 col10\" >14</td>\n",
       "      <td id=\"T_85eea_row4_col11\" class=\"data row4 col11\" >226</td>\n",
       "      <td id=\"T_85eea_row4_col12\" class=\"data row4 col12\" >252</td>\n",
       "      <td id=\"T_85eea_row4_col13\" class=\"data row4 col13\" >252</td>\n",
       "      <td id=\"T_85eea_row4_col14\" class=\"data row4 col14\" >172</td>\n",
       "    </tr>\n",
       "    <tr>\n",
       "      <th id=\"T_85eea_level0_row5\" class=\"row_heading level0 row5\" >5</th>\n",
       "      <td id=\"T_85eea_row5_col0\" class=\"data row5 col0\" >0</td>\n",
       "      <td id=\"T_85eea_row5_col1\" class=\"data row5 col1\" >0</td>\n",
       "      <td id=\"T_85eea_row5_col2\" class=\"data row5 col2\" >0</td>\n",
       "      <td id=\"T_85eea_row5_col3\" class=\"data row5 col3\" >0</td>\n",
       "      <td id=\"T_85eea_row5_col4\" class=\"data row5 col4\" >0</td>\n",
       "      <td id=\"T_85eea_row5_col5\" class=\"data row5 col5\" >0</td>\n",
       "      <td id=\"T_85eea_row5_col6\" class=\"data row5 col6\" >0</td>\n",
       "      <td id=\"T_85eea_row5_col7\" class=\"data row5 col7\" >0</td>\n",
       "      <td id=\"T_85eea_row5_col8\" class=\"data row5 col8\" >0</td>\n",
       "      <td id=\"T_85eea_row5_col9\" class=\"data row5 col9\" >0</td>\n",
       "      <td id=\"T_85eea_row5_col10\" class=\"data row5 col10\" >85</td>\n",
       "      <td id=\"T_85eea_row5_col11\" class=\"data row5 col11\" >243</td>\n",
       "      <td id=\"T_85eea_row5_col12\" class=\"data row5 col12\" >252</td>\n",
       "      <td id=\"T_85eea_row5_col13\" class=\"data row5 col13\" >252</td>\n",
       "      <td id=\"T_85eea_row5_col14\" class=\"data row5 col14\" >144</td>\n",
       "    </tr>\n",
       "    <tr>\n",
       "      <th id=\"T_85eea_level0_row6\" class=\"row_heading level0 row6\" >6</th>\n",
       "      <td id=\"T_85eea_row6_col0\" class=\"data row6 col0\" >0</td>\n",
       "      <td id=\"T_85eea_row6_col1\" class=\"data row6 col1\" >0</td>\n",
       "      <td id=\"T_85eea_row6_col2\" class=\"data row6 col2\" >0</td>\n",
       "      <td id=\"T_85eea_row6_col3\" class=\"data row6 col3\" >0</td>\n",
       "      <td id=\"T_85eea_row6_col4\" class=\"data row6 col4\" >0</td>\n",
       "      <td id=\"T_85eea_row6_col5\" class=\"data row6 col5\" >0</td>\n",
       "      <td id=\"T_85eea_row6_col6\" class=\"data row6 col6\" >0</td>\n",
       "      <td id=\"T_85eea_row6_col7\" class=\"data row6 col7\" >0</td>\n",
       "      <td id=\"T_85eea_row6_col8\" class=\"data row6 col8\" >0</td>\n",
       "      <td id=\"T_85eea_row6_col9\" class=\"data row6 col9\" >88</td>\n",
       "      <td id=\"T_85eea_row6_col10\" class=\"data row6 col10\" >189</td>\n",
       "      <td id=\"T_85eea_row6_col11\" class=\"data row6 col11\" >252</td>\n",
       "      <td id=\"T_85eea_row6_col12\" class=\"data row6 col12\" >252</td>\n",
       "      <td id=\"T_85eea_row6_col13\" class=\"data row6 col13\" >252</td>\n",
       "      <td id=\"T_85eea_row6_col14\" class=\"data row6 col14\" >14</td>\n",
       "    </tr>\n",
       "    <tr>\n",
       "      <th id=\"T_85eea_level0_row7\" class=\"row_heading level0 row7\" >7</th>\n",
       "      <td id=\"T_85eea_row7_col0\" class=\"data row7 col0\" >0</td>\n",
       "      <td id=\"T_85eea_row7_col1\" class=\"data row7 col1\" >0</td>\n",
       "      <td id=\"T_85eea_row7_col2\" class=\"data row7 col2\" >0</td>\n",
       "      <td id=\"T_85eea_row7_col3\" class=\"data row7 col3\" >0</td>\n",
       "      <td id=\"T_85eea_row7_col4\" class=\"data row7 col4\" >0</td>\n",
       "      <td id=\"T_85eea_row7_col5\" class=\"data row7 col5\" >0</td>\n",
       "      <td id=\"T_85eea_row7_col6\" class=\"data row7 col6\" >0</td>\n",
       "      <td id=\"T_85eea_row7_col7\" class=\"data row7 col7\" >91</td>\n",
       "      <td id=\"T_85eea_row7_col8\" class=\"data row7 col8\" >212</td>\n",
       "      <td id=\"T_85eea_row7_col9\" class=\"data row7 col9\" >247</td>\n",
       "      <td id=\"T_85eea_row7_col10\" class=\"data row7 col10\" >252</td>\n",
       "      <td id=\"T_85eea_row7_col11\" class=\"data row7 col11\" >252</td>\n",
       "      <td id=\"T_85eea_row7_col12\" class=\"data row7 col12\" >252</td>\n",
       "      <td id=\"T_85eea_row7_col13\" class=\"data row7 col13\" >204</td>\n",
       "      <td id=\"T_85eea_row7_col14\" class=\"data row7 col14\" >9</td>\n",
       "    </tr>\n",
       "    <tr>\n",
       "      <th id=\"T_85eea_level0_row8\" class=\"row_heading level0 row8\" >8</th>\n",
       "      <td id=\"T_85eea_row8_col0\" class=\"data row8 col0\" >0</td>\n",
       "      <td id=\"T_85eea_row8_col1\" class=\"data row8 col1\" >0</td>\n",
       "      <td id=\"T_85eea_row8_col2\" class=\"data row8 col2\" >32</td>\n",
       "      <td id=\"T_85eea_row8_col3\" class=\"data row8 col3\" >125</td>\n",
       "      <td id=\"T_85eea_row8_col4\" class=\"data row8 col4\" >193</td>\n",
       "      <td id=\"T_85eea_row8_col5\" class=\"data row8 col5\" >193</td>\n",
       "      <td id=\"T_85eea_row8_col6\" class=\"data row8 col6\" >193</td>\n",
       "      <td id=\"T_85eea_row8_col7\" class=\"data row8 col7\" >253</td>\n",
       "      <td id=\"T_85eea_row8_col8\" class=\"data row8 col8\" >252</td>\n",
       "      <td id=\"T_85eea_row8_col9\" class=\"data row8 col9\" >252</td>\n",
       "      <td id=\"T_85eea_row8_col10\" class=\"data row8 col10\" >252</td>\n",
       "      <td id=\"T_85eea_row8_col11\" class=\"data row8 col11\" >238</td>\n",
       "      <td id=\"T_85eea_row8_col12\" class=\"data row8 col12\" >102</td>\n",
       "      <td id=\"T_85eea_row8_col13\" class=\"data row8 col13\" >28</td>\n",
       "      <td id=\"T_85eea_row8_col14\" class=\"data row8 col14\" >0</td>\n",
       "    </tr>\n",
       "    <tr>\n",
       "      <th id=\"T_85eea_level0_row9\" class=\"row_heading level0 row9\" >9</th>\n",
       "      <td id=\"T_85eea_row9_col0\" class=\"data row9 col0\" >0</td>\n",
       "      <td id=\"T_85eea_row9_col1\" class=\"data row9 col1\" >45</td>\n",
       "      <td id=\"T_85eea_row9_col2\" class=\"data row9 col2\" >222</td>\n",
       "      <td id=\"T_85eea_row9_col3\" class=\"data row9 col3\" >252</td>\n",
       "      <td id=\"T_85eea_row9_col4\" class=\"data row9 col4\" >252</td>\n",
       "      <td id=\"T_85eea_row9_col5\" class=\"data row9 col5\" >252</td>\n",
       "      <td id=\"T_85eea_row9_col6\" class=\"data row9 col6\" >252</td>\n",
       "      <td id=\"T_85eea_row9_col7\" class=\"data row9 col7\" >253</td>\n",
       "      <td id=\"T_85eea_row9_col8\" class=\"data row9 col8\" >252</td>\n",
       "      <td id=\"T_85eea_row9_col9\" class=\"data row9 col9\" >252</td>\n",
       "      <td id=\"T_85eea_row9_col10\" class=\"data row9 col10\" >252</td>\n",
       "      <td id=\"T_85eea_row9_col11\" class=\"data row9 col11\" >177</td>\n",
       "      <td id=\"T_85eea_row9_col12\" class=\"data row9 col12\" >0</td>\n",
       "      <td id=\"T_85eea_row9_col13\" class=\"data row9 col13\" >0</td>\n",
       "      <td id=\"T_85eea_row9_col14\" class=\"data row9 col14\" >0</td>\n",
       "    </tr>\n",
       "    <tr>\n",
       "      <th id=\"T_85eea_level0_row10\" class=\"row_heading level0 row10\" >10</th>\n",
       "      <td id=\"T_85eea_row10_col0\" class=\"data row10 col0\" >0</td>\n",
       "      <td id=\"T_85eea_row10_col1\" class=\"data row10 col1\" >45</td>\n",
       "      <td id=\"T_85eea_row10_col2\" class=\"data row10 col2\" >223</td>\n",
       "      <td id=\"T_85eea_row10_col3\" class=\"data row10 col3\" >253</td>\n",
       "      <td id=\"T_85eea_row10_col4\" class=\"data row10 col4\" >253</td>\n",
       "      <td id=\"T_85eea_row10_col5\" class=\"data row10 col5\" >253</td>\n",
       "      <td id=\"T_85eea_row10_col6\" class=\"data row10 col6\" >253</td>\n",
       "      <td id=\"T_85eea_row10_col7\" class=\"data row10 col7\" >255</td>\n",
       "      <td id=\"T_85eea_row10_col8\" class=\"data row10 col8\" >253</td>\n",
       "      <td id=\"T_85eea_row10_col9\" class=\"data row10 col9\" >253</td>\n",
       "      <td id=\"T_85eea_row10_col10\" class=\"data row10 col10\" >253</td>\n",
       "      <td id=\"T_85eea_row10_col11\" class=\"data row10 col11\" >253</td>\n",
       "      <td id=\"T_85eea_row10_col12\" class=\"data row10 col12\" >74</td>\n",
       "      <td id=\"T_85eea_row10_col13\" class=\"data row10 col13\" >0</td>\n",
       "      <td id=\"T_85eea_row10_col14\" class=\"data row10 col14\" >0</td>\n",
       "    </tr>\n",
       "    <tr>\n",
       "      <th id=\"T_85eea_level0_row11\" class=\"row_heading level0 row11\" >11</th>\n",
       "      <td id=\"T_85eea_row11_col0\" class=\"data row11 col0\" >0</td>\n",
       "      <td id=\"T_85eea_row11_col1\" class=\"data row11 col1\" >0</td>\n",
       "      <td id=\"T_85eea_row11_col2\" class=\"data row11 col2\" >31</td>\n",
       "      <td id=\"T_85eea_row11_col3\" class=\"data row11 col3\" >123</td>\n",
       "      <td id=\"T_85eea_row11_col4\" class=\"data row11 col4\" >52</td>\n",
       "      <td id=\"T_85eea_row11_col5\" class=\"data row11 col5\" >44</td>\n",
       "      <td id=\"T_85eea_row11_col6\" class=\"data row11 col6\" >44</td>\n",
       "      <td id=\"T_85eea_row11_col7\" class=\"data row11 col7\" >44</td>\n",
       "      <td id=\"T_85eea_row11_col8\" class=\"data row11 col8\" >44</td>\n",
       "      <td id=\"T_85eea_row11_col9\" class=\"data row11 col9\" >143</td>\n",
       "      <td id=\"T_85eea_row11_col10\" class=\"data row11 col10\" >252</td>\n",
       "      <td id=\"T_85eea_row11_col11\" class=\"data row11 col11\" >252</td>\n",
       "      <td id=\"T_85eea_row11_col12\" class=\"data row11 col12\" >74</td>\n",
       "      <td id=\"T_85eea_row11_col13\" class=\"data row11 col13\" >0</td>\n",
       "      <td id=\"T_85eea_row11_col14\" class=\"data row11 col14\" >0</td>\n",
       "    </tr>\n",
       "    <tr>\n",
       "      <th id=\"T_85eea_level0_row12\" class=\"row_heading level0 row12\" >12</th>\n",
       "      <td id=\"T_85eea_row12_col0\" class=\"data row12 col0\" >0</td>\n",
       "      <td id=\"T_85eea_row12_col1\" class=\"data row12 col1\" >0</td>\n",
       "      <td id=\"T_85eea_row12_col2\" class=\"data row12 col2\" >0</td>\n",
       "      <td id=\"T_85eea_row12_col3\" class=\"data row12 col3\" >0</td>\n",
       "      <td id=\"T_85eea_row12_col4\" class=\"data row12 col4\" >0</td>\n",
       "      <td id=\"T_85eea_row12_col5\" class=\"data row12 col5\" >0</td>\n",
       "      <td id=\"T_85eea_row12_col6\" class=\"data row12 col6\" >0</td>\n",
       "      <td id=\"T_85eea_row12_col7\" class=\"data row12 col7\" >0</td>\n",
       "      <td id=\"T_85eea_row12_col8\" class=\"data row12 col8\" >0</td>\n",
       "      <td id=\"T_85eea_row12_col9\" class=\"data row12 col9\" >15</td>\n",
       "      <td id=\"T_85eea_row12_col10\" class=\"data row12 col10\" >252</td>\n",
       "      <td id=\"T_85eea_row12_col11\" class=\"data row12 col11\" >252</td>\n",
       "      <td id=\"T_85eea_row12_col12\" class=\"data row12 col12\" >74</td>\n",
       "      <td id=\"T_85eea_row12_col13\" class=\"data row12 col13\" >0</td>\n",
       "      <td id=\"T_85eea_row12_col14\" class=\"data row12 col14\" >0</td>\n",
       "    </tr>\n",
       "    <tr>\n",
       "      <th id=\"T_85eea_level0_row13\" class=\"row_heading level0 row13\" >13</th>\n",
       "      <td id=\"T_85eea_row13_col0\" class=\"data row13 col0\" >0</td>\n",
       "      <td id=\"T_85eea_row13_col1\" class=\"data row13 col1\" >0</td>\n",
       "      <td id=\"T_85eea_row13_col2\" class=\"data row13 col2\" >0</td>\n",
       "      <td id=\"T_85eea_row13_col3\" class=\"data row13 col3\" >0</td>\n",
       "      <td id=\"T_85eea_row13_col4\" class=\"data row13 col4\" >0</td>\n",
       "      <td id=\"T_85eea_row13_col5\" class=\"data row13 col5\" >0</td>\n",
       "      <td id=\"T_85eea_row13_col6\" class=\"data row13 col6\" >0</td>\n",
       "      <td id=\"T_85eea_row13_col7\" class=\"data row13 col7\" >0</td>\n",
       "      <td id=\"T_85eea_row13_col8\" class=\"data row13 col8\" >0</td>\n",
       "      <td id=\"T_85eea_row13_col9\" class=\"data row13 col9\" >86</td>\n",
       "      <td id=\"T_85eea_row13_col10\" class=\"data row13 col10\" >252</td>\n",
       "      <td id=\"T_85eea_row13_col11\" class=\"data row13 col11\" >252</td>\n",
       "      <td id=\"T_85eea_row13_col12\" class=\"data row13 col12\" >74</td>\n",
       "      <td id=\"T_85eea_row13_col13\" class=\"data row13 col13\" >0</td>\n",
       "      <td id=\"T_85eea_row13_col14\" class=\"data row13 col14\" >0</td>\n",
       "    </tr>\n",
       "    <tr>\n",
       "      <th id=\"T_85eea_level0_row14\" class=\"row_heading level0 row14\" >14</th>\n",
       "      <td id=\"T_85eea_row14_col0\" class=\"data row14 col0\" >75</td>\n",
       "      <td id=\"T_85eea_row14_col1\" class=\"data row14 col1\" >9</td>\n",
       "      <td id=\"T_85eea_row14_col2\" class=\"data row14 col2\" >0</td>\n",
       "      <td id=\"T_85eea_row14_col3\" class=\"data row14 col3\" >0</td>\n",
       "      <td id=\"T_85eea_row14_col4\" class=\"data row14 col4\" >0</td>\n",
       "      <td id=\"T_85eea_row14_col5\" class=\"data row14 col5\" >0</td>\n",
       "      <td id=\"T_85eea_row14_col6\" class=\"data row14 col6\" >0</td>\n",
       "      <td id=\"T_85eea_row14_col7\" class=\"data row14 col7\" >0</td>\n",
       "      <td id=\"T_85eea_row14_col8\" class=\"data row14 col8\" >98</td>\n",
       "      <td id=\"T_85eea_row14_col9\" class=\"data row14 col9\" >242</td>\n",
       "      <td id=\"T_85eea_row14_col10\" class=\"data row14 col10\" >252</td>\n",
       "      <td id=\"T_85eea_row14_col11\" class=\"data row14 col11\" >252</td>\n",
       "      <td id=\"T_85eea_row14_col12\" class=\"data row14 col12\" >74</td>\n",
       "      <td id=\"T_85eea_row14_col13\" class=\"data row14 col13\" >0</td>\n",
       "      <td id=\"T_85eea_row14_col14\" class=\"data row14 col14\" >0</td>\n",
       "    </tr>\n",
       "    <tr>\n",
       "      <th id=\"T_85eea_level0_row15\" class=\"row_heading level0 row15\" >15</th>\n",
       "      <td id=\"T_85eea_row15_col0\" class=\"data row15 col0\" >252</td>\n",
       "      <td id=\"T_85eea_row15_col1\" class=\"data row15 col1\" >29</td>\n",
       "      <td id=\"T_85eea_row15_col2\" class=\"data row15 col2\" >0</td>\n",
       "      <td id=\"T_85eea_row15_col3\" class=\"data row15 col3\" >0</td>\n",
       "      <td id=\"T_85eea_row15_col4\" class=\"data row15 col4\" >0</td>\n",
       "      <td id=\"T_85eea_row15_col5\" class=\"data row15 col5\" >0</td>\n",
       "      <td id=\"T_85eea_row15_col6\" class=\"data row15 col6\" >18</td>\n",
       "      <td id=\"T_85eea_row15_col7\" class=\"data row15 col7\" >92</td>\n",
       "      <td id=\"T_85eea_row15_col8\" class=\"data row15 col8\" >239</td>\n",
       "      <td id=\"T_85eea_row15_col9\" class=\"data row15 col9\" >252</td>\n",
       "      <td id=\"T_85eea_row15_col10\" class=\"data row15 col10\" >252</td>\n",
       "      <td id=\"T_85eea_row15_col11\" class=\"data row15 col11\" >243</td>\n",
       "      <td id=\"T_85eea_row15_col12\" class=\"data row15 col12\" >65</td>\n",
       "      <td id=\"T_85eea_row15_col13\" class=\"data row15 col13\" >0</td>\n",
       "      <td id=\"T_85eea_row15_col14\" class=\"data row15 col14\" >0</td>\n",
       "    </tr>\n",
       "    <tr>\n",
       "      <th id=\"T_85eea_level0_row16\" class=\"row_heading level0 row16\" >16</th>\n",
       "      <td id=\"T_85eea_row16_col0\" class=\"data row16 col0\" >252</td>\n",
       "      <td id=\"T_85eea_row16_col1\" class=\"data row16 col1\" >147</td>\n",
       "      <td id=\"T_85eea_row16_col2\" class=\"data row16 col2\" >134</td>\n",
       "      <td id=\"T_85eea_row16_col3\" class=\"data row16 col3\" >134</td>\n",
       "      <td id=\"T_85eea_row16_col4\" class=\"data row16 col4\" >134</td>\n",
       "      <td id=\"T_85eea_row16_col5\" class=\"data row16 col5\" >134</td>\n",
       "      <td id=\"T_85eea_row16_col6\" class=\"data row16 col6\" >203</td>\n",
       "      <td id=\"T_85eea_row16_col7\" class=\"data row16 col7\" >253</td>\n",
       "      <td id=\"T_85eea_row16_col8\" class=\"data row16 col8\" >252</td>\n",
       "      <td id=\"T_85eea_row16_col9\" class=\"data row16 col9\" >252</td>\n",
       "      <td id=\"T_85eea_row16_col10\" class=\"data row16 col10\" >188</td>\n",
       "      <td id=\"T_85eea_row16_col11\" class=\"data row16 col11\" >83</td>\n",
       "      <td id=\"T_85eea_row16_col12\" class=\"data row16 col12\" >0</td>\n",
       "      <td id=\"T_85eea_row16_col13\" class=\"data row16 col13\" >0</td>\n",
       "      <td id=\"T_85eea_row16_col14\" class=\"data row16 col14\" >0</td>\n",
       "    </tr>\n",
       "    <tr>\n",
       "      <th id=\"T_85eea_level0_row17\" class=\"row_heading level0 row17\" >17</th>\n",
       "      <td id=\"T_85eea_row17_col0\" class=\"data row17 col0\" >252</td>\n",
       "      <td id=\"T_85eea_row17_col1\" class=\"data row17 col1\" >252</td>\n",
       "      <td id=\"T_85eea_row17_col2\" class=\"data row17 col2\" >252</td>\n",
       "      <td id=\"T_85eea_row17_col3\" class=\"data row17 col3\" >252</td>\n",
       "      <td id=\"T_85eea_row17_col4\" class=\"data row17 col4\" >252</td>\n",
       "      <td id=\"T_85eea_row17_col5\" class=\"data row17 col5\" >252</td>\n",
       "      <td id=\"T_85eea_row17_col6\" class=\"data row17 col6\" >252</td>\n",
       "      <td id=\"T_85eea_row17_col7\" class=\"data row17 col7\" >253</td>\n",
       "      <td id=\"T_85eea_row17_col8\" class=\"data row17 col8\" >230</td>\n",
       "      <td id=\"T_85eea_row17_col9\" class=\"data row17 col9\" >153</td>\n",
       "      <td id=\"T_85eea_row17_col10\" class=\"data row17 col10\" >8</td>\n",
       "      <td id=\"T_85eea_row17_col11\" class=\"data row17 col11\" >0</td>\n",
       "      <td id=\"T_85eea_row17_col12\" class=\"data row17 col12\" >0</td>\n",
       "      <td id=\"T_85eea_row17_col13\" class=\"data row17 col13\" >0</td>\n",
       "      <td id=\"T_85eea_row17_col14\" class=\"data row17 col14\" >0</td>\n",
       "    </tr>\n",
       "    <tr>\n",
       "      <th id=\"T_85eea_level0_row18\" class=\"row_heading level0 row18\" >18</th>\n",
       "      <td id=\"T_85eea_row18_col0\" class=\"data row18 col0\" >252</td>\n",
       "      <td id=\"T_85eea_row18_col1\" class=\"data row18 col1\" >252</td>\n",
       "      <td id=\"T_85eea_row18_col2\" class=\"data row18 col2\" >252</td>\n",
       "      <td id=\"T_85eea_row18_col3\" class=\"data row18 col3\" >252</td>\n",
       "      <td id=\"T_85eea_row18_col4\" class=\"data row18 col4\" >252</td>\n",
       "      <td id=\"T_85eea_row18_col5\" class=\"data row18 col5\" >217</td>\n",
       "      <td id=\"T_85eea_row18_col6\" class=\"data row18 col6\" >207</td>\n",
       "      <td id=\"T_85eea_row18_col7\" class=\"data row18 col7\" >146</td>\n",
       "      <td id=\"T_85eea_row18_col8\" class=\"data row18 col8\" >45</td>\n",
       "      <td id=\"T_85eea_row18_col9\" class=\"data row18 col9\" >0</td>\n",
       "      <td id=\"T_85eea_row18_col10\" class=\"data row18 col10\" >0</td>\n",
       "      <td id=\"T_85eea_row18_col11\" class=\"data row18 col11\" >0</td>\n",
       "      <td id=\"T_85eea_row18_col12\" class=\"data row18 col12\" >0</td>\n",
       "      <td id=\"T_85eea_row18_col13\" class=\"data row18 col13\" >0</td>\n",
       "      <td id=\"T_85eea_row18_col14\" class=\"data row18 col14\" >0</td>\n",
       "    </tr>\n",
       "  </tbody>\n",
       "</table>\n"
      ],
      "text/plain": [
       "<pandas.io.formats.style.Styler at 0x795eb2fd7280>"
      ]
     },
     "execution_count": 33,
     "metadata": {},
     "output_type": "execute_result"
    }
   ],
   "source": [
    "df = pd.DataFrame(sample_img_3[5:24, 7:22].numpy())\n",
    "df.style.set_properties(**{'font-size':'8pt'})"
   ]
  },
  {
   "cell_type": "markdown",
   "metadata": {
    "id": "knUrdtmrlFGW"
   },
   "source": [
    "<font color = 'dodgerblue'> - In the matrix below we have flipped color just for illustartion (We are using 0 for white instead of black)."
   ]
  },
  {
   "cell_type": "code",
   "execution_count": 34,
   "metadata": {
    "colab": {
     "base_uri": "https://localhost:8080/",
     "height": 645
    },
    "id": "zjZQ-JVvCGoW",
    "outputId": "b29a3797-ce68-4917-c47e-30e5b3f3034a"
   },
   "outputs": [
    {
     "data": {
      "text/html": [
       "<style type=\"text/css\">\n",
       "#T_36316_row0_col0, #T_36316_row0_col1, #T_36316_row0_col2, #T_36316_row0_col3, #T_36316_row1_col0, #T_36316_row1_col1, #T_36316_row2_col0, #T_36316_row2_col1, #T_36316_row3_col0, #T_36316_row3_col1, #T_36316_row4_col0, #T_36316_row4_col1, #T_36316_row4_col6, #T_36316_row4_col7, #T_36316_row4_col8, #T_36316_row4_col9, #T_36316_row5_col0, #T_36316_row5_col1, #T_36316_row5_col2, #T_36316_row5_col3, #T_36316_row5_col4, #T_36316_row5_col5, #T_36316_row5_col6, #T_36316_row5_col7, #T_36316_row5_col8, #T_36316_row5_col9, #T_36316_row6_col0, #T_36316_row6_col1, #T_36316_row6_col2, #T_36316_row6_col3, #T_36316_row6_col4, #T_36316_row6_col5, #T_36316_row6_col6, #T_36316_row6_col7, #T_36316_row6_col8, #T_36316_row7_col0, #T_36316_row7_col1, #T_36316_row7_col2, #T_36316_row7_col3, #T_36316_row7_col4, #T_36316_row7_col5, #T_36316_row7_col6, #T_36316_row8_col0, #T_36316_row8_col1, #T_36316_row8_col14, #T_36316_row9_col0, #T_36316_row9_col12, #T_36316_row9_col13, #T_36316_row9_col14, #T_36316_row10_col0, #T_36316_row10_col13, #T_36316_row10_col14, #T_36316_row11_col0, #T_36316_row11_col1, #T_36316_row11_col13, #T_36316_row11_col14, #T_36316_row12_col0, #T_36316_row12_col1, #T_36316_row12_col2, #T_36316_row12_col3, #T_36316_row12_col4, #T_36316_row12_col5, #T_36316_row12_col6, #T_36316_row12_col7, #T_36316_row12_col8, #T_36316_row12_col13, #T_36316_row12_col14, #T_36316_row13_col0, #T_36316_row13_col1, #T_36316_row13_col2, #T_36316_row13_col3, #T_36316_row13_col4, #T_36316_row13_col5, #T_36316_row13_col6, #T_36316_row13_col7, #T_36316_row13_col8, #T_36316_row13_col13, #T_36316_row13_col14, #T_36316_row14_col2, #T_36316_row14_col3, #T_36316_row14_col4, #T_36316_row14_col5, #T_36316_row14_col6, #T_36316_row14_col7, #T_36316_row14_col13, #T_36316_row14_col14, #T_36316_row15_col2, #T_36316_row15_col3, #T_36316_row15_col4, #T_36316_row15_col5, #T_36316_row15_col13, #T_36316_row15_col14, #T_36316_row16_col12, #T_36316_row16_col13, #T_36316_row16_col14, #T_36316_row17_col11, #T_36316_row17_col12, #T_36316_row17_col13, #T_36316_row17_col14, #T_36316_row18_col9, #T_36316_row18_col10, #T_36316_row18_col11, #T_36316_row18_col12, #T_36316_row18_col13, #T_36316_row18_col14 {\n",
       "  font-size: 8pt;\n",
       "  background-color: #ffffff;\n",
       "  color: #000000;\n",
       "}\n",
       "#T_36316_row0_col4 {\n",
       "  font-size: 8pt;\n",
       "  background-color: #ececec;\n",
       "  color: #000000;\n",
       "}\n",
       "#T_36316_row0_col5, #T_36316_row1_col2 {\n",
       "  font-size: 8pt;\n",
       "  background-color: #e8e8e8;\n",
       "  color: #000000;\n",
       "}\n",
       "#T_36316_row0_col6 {\n",
       "  font-size: 8pt;\n",
       "  background-color: #b0b0b0;\n",
       "  color: #000000;\n",
       "}\n",
       "#T_36316_row0_col7, #T_36316_row0_col8, #T_36316_row0_col9, #T_36316_row0_col10, #T_36316_row0_col11, #T_36316_row0_col12, #T_36316_row1_col13, #T_36316_row2_col13, #T_36316_row2_col14, #T_36316_row3_col13, #T_36316_row3_col14, #T_36316_row4_col13, #T_36316_row5_col13, #T_36316_row6_col13, #T_36316_row10_col3, #T_36316_row10_col4, #T_36316_row10_col5, #T_36316_row10_col6, #T_36316_row10_col7, #T_36316_row10_col8, #T_36316_row10_col9, #T_36316_row10_col10, #T_36316_row10_col11, #T_36316_row15_col0, #T_36316_row16_col0, #T_36316_row17_col0, #T_36316_row17_col1, #T_36316_row17_col2, #T_36316_row18_col0, #T_36316_row18_col1, #T_36316_row18_col2 {\n",
       "  font-size: 8pt;\n",
       "  background-color: #000000;\n",
       "  color: #f1f1f1;\n",
       "}\n",
       "#T_36316_row0_col13 {\n",
       "  font-size: 8pt;\n",
       "  background-color: #626262;\n",
       "  color: #f1f1f1;\n",
       "}\n",
       "#T_36316_row0_col14 {\n",
       "  font-size: 8pt;\n",
       "  background-color: #fcfcfc;\n",
       "  color: #000000;\n",
       "}\n",
       "#T_36316_row1_col3 {\n",
       "  font-size: 8pt;\n",
       "  background-color: #888888;\n",
       "  color: #f1f1f1;\n",
       "}\n",
       "#T_36316_row1_col4, #T_36316_row10_col2 {\n",
       "  font-size: 8pt;\n",
       "  background-color: #222222;\n",
       "  color: #f1f1f1;\n",
       "}\n",
       "#T_36316_row1_col5, #T_36316_row4_col11 {\n",
       "  font-size: 8pt;\n",
       "  background-color: #1f1f1f;\n",
       "  color: #f1f1f1;\n",
       "}\n",
       "#T_36316_row1_col6, #T_36316_row1_col8, #T_36316_row1_col9, #T_36316_row1_col10, #T_36316_row1_col11, #T_36316_row1_col12, #T_36316_row2_col3, #T_36316_row2_col4, #T_36316_row2_col5, #T_36316_row2_col6, #T_36316_row2_col8, #T_36316_row2_col9, #T_36316_row2_col10, #T_36316_row2_col11, #T_36316_row2_col12, #T_36316_row3_col3, #T_36316_row3_col4, #T_36316_row3_col11, #T_36316_row3_col12, #T_36316_row4_col12, #T_36316_row5_col12, #T_36316_row6_col11, #T_36316_row6_col12, #T_36316_row7_col10, #T_36316_row7_col11, #T_36316_row7_col12, #T_36316_row8_col8, #T_36316_row8_col9, #T_36316_row8_col10, #T_36316_row9_col3, #T_36316_row9_col4, #T_36316_row9_col5, #T_36316_row9_col6, #T_36316_row9_col8, #T_36316_row9_col9, #T_36316_row9_col10, #T_36316_row11_col10, #T_36316_row11_col11, #T_36316_row12_col10, #T_36316_row12_col11, #T_36316_row13_col10, #T_36316_row13_col11, #T_36316_row14_col10, #T_36316_row14_col11, #T_36316_row15_col9, #T_36316_row15_col10, #T_36316_row16_col8, #T_36316_row16_col9, #T_36316_row17_col3, #T_36316_row17_col4, #T_36316_row17_col5, #T_36316_row17_col6, #T_36316_row18_col3, #T_36316_row18_col4 {\n",
       "  font-size: 8pt;\n",
       "  background-color: #010101;\n",
       "  color: #f1f1f1;\n",
       "}\n",
       "#T_36316_row1_col7, #T_36316_row2_col7, #T_36316_row8_col7, #T_36316_row9_col7, #T_36316_row16_col7, #T_36316_row17_col7 {\n",
       "  font-size: 8pt;\n",
       "  background-color: #020202;\n",
       "  color: #f1f1f1;\n",
       "}\n",
       "#T_36316_row1_col14 {\n",
       "  font-size: 8pt;\n",
       "  background-color: #727272;\n",
       "  color: #f1f1f1;\n",
       "}\n",
       "#T_36316_row2_col2 {\n",
       "  font-size: 8pt;\n",
       "  background-color: #5e5e5e;\n",
       "  color: #f1f1f1;\n",
       "}\n",
       "#T_36316_row3_col2 {\n",
       "  font-size: 8pt;\n",
       "  background-color: #ababab;\n",
       "  color: #000000;\n",
       "}\n",
       "#T_36316_row3_col5, #T_36316_row17_col8 {\n",
       "  font-size: 8pt;\n",
       "  background-color: #1b1b1b;\n",
       "  color: #f1f1f1;\n",
       "}\n",
       "#T_36316_row3_col6, #T_36316_row3_col7, #T_36316_row3_col8, #T_36316_row3_col9 {\n",
       "  font-size: 8pt;\n",
       "  background-color: #909090;\n",
       "  color: #f1f1f1;\n",
       "}\n",
       "#T_36316_row3_col10, #T_36316_row6_col10 {\n",
       "  font-size: 8pt;\n",
       "  background-color: #525252;\n",
       "  color: #f1f1f1;\n",
       "}\n",
       "#T_36316_row4_col2 {\n",
       "  font-size: 8pt;\n",
       "  background-color: #fdfdfd;\n",
       "  color: #000000;\n",
       "}\n",
       "#T_36316_row4_col3, #T_36316_row4_col4, #T_36316_row15_col1 {\n",
       "  font-size: 8pt;\n",
       "  background-color: #f1f1f1;\n",
       "  color: #000000;\n",
       "}\n",
       "#T_36316_row4_col5 {\n",
       "  font-size: 8pt;\n",
       "  background-color: #f4f4f4;\n",
       "  color: #000000;\n",
       "}\n",
       "#T_36316_row4_col10, #T_36316_row6_col14, #T_36316_row12_col9 {\n",
       "  font-size: 8pt;\n",
       "  background-color: #f8f8f8;\n",
       "  color: #000000;\n",
       "}\n",
       "#T_36316_row4_col14 {\n",
       "  font-size: 8pt;\n",
       "  background-color: #646464;\n",
       "  color: #f1f1f1;\n",
       "}\n",
       "#T_36316_row5_col10, #T_36316_row13_col9 {\n",
       "  font-size: 8pt;\n",
       "  background-color: #c5c5c5;\n",
       "  color: #000000;\n",
       "}\n",
       "#T_36316_row5_col11, #T_36316_row15_col11 {\n",
       "  font-size: 8pt;\n",
       "  background-color: #0c0c0c;\n",
       "  color: #f1f1f1;\n",
       "}\n",
       "#T_36316_row5_col14, #T_36316_row18_col7 {\n",
       "  font-size: 8pt;\n",
       "  background-color: #828282;\n",
       "  color: #f1f1f1;\n",
       "}\n",
       "#T_36316_row6_col9 {\n",
       "  font-size: 8pt;\n",
       "  background-color: #c3c3c3;\n",
       "  color: #000000;\n",
       "}\n",
       "#T_36316_row7_col7 {\n",
       "  font-size: 8pt;\n",
       "  background-color: #c1c1c1;\n",
       "  color: #000000;\n",
       "}\n",
       "#T_36316_row7_col8 {\n",
       "  font-size: 8pt;\n",
       "  background-color: #323232;\n",
       "  color: #f1f1f1;\n",
       "}\n",
       "#T_36316_row7_col9 {\n",
       "  font-size: 8pt;\n",
       "  background-color: #070707;\n",
       "  color: #f1f1f1;\n",
       "}\n",
       "#T_36316_row7_col13 {\n",
       "  font-size: 8pt;\n",
       "  background-color: #3c3c3c;\n",
       "  color: #f1f1f1;\n",
       "}\n",
       "#T_36316_row7_col14, #T_36316_row14_col1, #T_36316_row17_col10 {\n",
       "  font-size: 8pt;\n",
       "  background-color: #fbfbfb;\n",
       "  color: #000000;\n",
       "}\n",
       "#T_36316_row8_col2, #T_36316_row11_col2 {\n",
       "  font-size: 8pt;\n",
       "  background-color: #f0f0f0;\n",
       "  color: #000000;\n",
       "}\n",
       "#T_36316_row8_col3 {\n",
       "  font-size: 8pt;\n",
       "  background-color: #989898;\n",
       "  color: #f1f1f1;\n",
       "}\n",
       "#T_36316_row8_col4, #T_36316_row8_col5, #T_36316_row8_col6 {\n",
       "  font-size: 8pt;\n",
       "  background-color: #4d4d4d;\n",
       "  color: #f1f1f1;\n",
       "}\n",
       "#T_36316_row8_col11 {\n",
       "  font-size: 8pt;\n",
       "  background-color: #111111;\n",
       "  color: #f1f1f1;\n",
       "}\n",
       "#T_36316_row8_col12 {\n",
       "  font-size: 8pt;\n",
       "  background-color: #b4b4b4;\n",
       "  color: #000000;\n",
       "}\n",
       "#T_36316_row8_col13 {\n",
       "  font-size: 8pt;\n",
       "  background-color: #f2f2f2;\n",
       "  color: #000000;\n",
       "}\n",
       "#T_36316_row9_col1, #T_36316_row10_col1, #T_36316_row11_col5, #T_36316_row11_col6, #T_36316_row11_col7, #T_36316_row11_col8, #T_36316_row18_col8 {\n",
       "  font-size: 8pt;\n",
       "  background-color: #e7e7e7;\n",
       "  color: #000000;\n",
       "}\n",
       "#T_36316_row9_col2 {\n",
       "  font-size: 8pt;\n",
       "  background-color: #232323;\n",
       "  color: #f1f1f1;\n",
       "}\n",
       "#T_36316_row9_col11 {\n",
       "  font-size: 8pt;\n",
       "  background-color: #5f5f5f;\n",
       "  color: #f1f1f1;\n",
       "}\n",
       "#T_36316_row10_col12, #T_36316_row11_col12, #T_36316_row12_col12, #T_36316_row13_col12, #T_36316_row14_col12 {\n",
       "  font-size: 8pt;\n",
       "  background-color: #d0d0d0;\n",
       "  color: #000000;\n",
       "}\n",
       "#T_36316_row11_col3 {\n",
       "  font-size: 8pt;\n",
       "  background-color: #9a9a9a;\n",
       "  color: #f1f1f1;\n",
       "}\n",
       "#T_36316_row11_col4 {\n",
       "  font-size: 8pt;\n",
       "  background-color: #e1e1e1;\n",
       "  color: #000000;\n",
       "}\n",
       "#T_36316_row11_col9 {\n",
       "  font-size: 8pt;\n",
       "  background-color: #848484;\n",
       "  color: #f1f1f1;\n",
       "}\n",
       "#T_36316_row14_col0 {\n",
       "  font-size: 8pt;\n",
       "  background-color: #cecece;\n",
       "  color: #000000;\n",
       "}\n",
       "#T_36316_row14_col8 {\n",
       "  font-size: 8pt;\n",
       "  background-color: #b9b9b9;\n",
       "  color: #000000;\n",
       "}\n",
       "#T_36316_row14_col9 {\n",
       "  font-size: 8pt;\n",
       "  background-color: #0d0d0d;\n",
       "  color: #f1f1f1;\n",
       "}\n",
       "#T_36316_row15_col6 {\n",
       "  font-size: 8pt;\n",
       "  background-color: #f7f7f7;\n",
       "  color: #000000;\n",
       "}\n",
       "#T_36316_row15_col7 {\n",
       "  font-size: 8pt;\n",
       "  background-color: #c0c0c0;\n",
       "  color: #000000;\n",
       "}\n",
       "#T_36316_row15_col8 {\n",
       "  font-size: 8pt;\n",
       "  background-color: #101010;\n",
       "  color: #f1f1f1;\n",
       "}\n",
       "#T_36316_row15_col12 {\n",
       "  font-size: 8pt;\n",
       "  background-color: #d8d8d8;\n",
       "  color: #000000;\n",
       "}\n",
       "#T_36316_row16_col1 {\n",
       "  font-size: 8pt;\n",
       "  background-color: #7e7e7e;\n",
       "  color: #f1f1f1;\n",
       "}\n",
       "#T_36316_row16_col2 {\n",
       "  font-size: 8pt;\n",
       "  background-color: #8d8d8d;\n",
       "  color: #f1f1f1;\n",
       "}\n",
       "#T_36316_row16_col3, #T_36316_row16_col4, #T_36316_row16_col5 {\n",
       "  font-size: 8pt;\n",
       "  background-color: #8e8e8e;\n",
       "  color: #f1f1f1;\n",
       "}\n",
       "#T_36316_row16_col6 {\n",
       "  font-size: 8pt;\n",
       "  background-color: #3f3f3f;\n",
       "  color: #f1f1f1;\n",
       "}\n",
       "#T_36316_row16_col10 {\n",
       "  font-size: 8pt;\n",
       "  background-color: #535353;\n",
       "  color: #f1f1f1;\n",
       "}\n",
       "#T_36316_row16_col11 {\n",
       "  font-size: 8pt;\n",
       "  background-color: #c8c8c8;\n",
       "  color: #000000;\n",
       "}\n",
       "#T_36316_row17_col9 {\n",
       "  font-size: 8pt;\n",
       "  background-color: #797979;\n",
       "  color: #f1f1f1;\n",
       "}\n",
       "#T_36316_row18_col5 {\n",
       "  font-size: 8pt;\n",
       "  background-color: #2b2b2b;\n",
       "  color: #f1f1f1;\n",
       "}\n",
       "#T_36316_row18_col6 {\n",
       "  font-size: 8pt;\n",
       "  background-color: #393939;\n",
       "  color: #f1f1f1;\n",
       "}\n",
       "</style>\n",
       "<table id=\"T_36316\" class=\"dataframe\">\n",
       "  <thead>\n",
       "    <tr>\n",
       "      <th class=\"blank level0\" >&nbsp;</th>\n",
       "      <th id=\"T_36316_level0_col0\" class=\"col_heading level0 col0\" >0</th>\n",
       "      <th id=\"T_36316_level0_col1\" class=\"col_heading level0 col1\" >1</th>\n",
       "      <th id=\"T_36316_level0_col2\" class=\"col_heading level0 col2\" >2</th>\n",
       "      <th id=\"T_36316_level0_col3\" class=\"col_heading level0 col3\" >3</th>\n",
       "      <th id=\"T_36316_level0_col4\" class=\"col_heading level0 col4\" >4</th>\n",
       "      <th id=\"T_36316_level0_col5\" class=\"col_heading level0 col5\" >5</th>\n",
       "      <th id=\"T_36316_level0_col6\" class=\"col_heading level0 col6\" >6</th>\n",
       "      <th id=\"T_36316_level0_col7\" class=\"col_heading level0 col7\" >7</th>\n",
       "      <th id=\"T_36316_level0_col8\" class=\"col_heading level0 col8\" >8</th>\n",
       "      <th id=\"T_36316_level0_col9\" class=\"col_heading level0 col9\" >9</th>\n",
       "      <th id=\"T_36316_level0_col10\" class=\"col_heading level0 col10\" >10</th>\n",
       "      <th id=\"T_36316_level0_col11\" class=\"col_heading level0 col11\" >11</th>\n",
       "      <th id=\"T_36316_level0_col12\" class=\"col_heading level0 col12\" >12</th>\n",
       "      <th id=\"T_36316_level0_col13\" class=\"col_heading level0 col13\" >13</th>\n",
       "      <th id=\"T_36316_level0_col14\" class=\"col_heading level0 col14\" >14</th>\n",
       "    </tr>\n",
       "  </thead>\n",
       "  <tbody>\n",
       "    <tr>\n",
       "      <th id=\"T_36316_level0_row0\" class=\"row_heading level0 row0\" >0</th>\n",
       "      <td id=\"T_36316_row0_col0\" class=\"data row0 col0\" >0</td>\n",
       "      <td id=\"T_36316_row0_col1\" class=\"data row0 col1\" >0</td>\n",
       "      <td id=\"T_36316_row0_col2\" class=\"data row0 col2\" >0</td>\n",
       "      <td id=\"T_36316_row0_col3\" class=\"data row0 col3\" >0</td>\n",
       "      <td id=\"T_36316_row0_col4\" class=\"data row0 col4\" >38</td>\n",
       "      <td id=\"T_36316_row0_col5\" class=\"data row0 col5\" >43</td>\n",
       "      <td id=\"T_36316_row0_col6\" class=\"data row0 col6\" >105</td>\n",
       "      <td id=\"T_36316_row0_col7\" class=\"data row0 col7\" >255</td>\n",
       "      <td id=\"T_36316_row0_col8\" class=\"data row0 col8\" >253</td>\n",
       "      <td id=\"T_36316_row0_col9\" class=\"data row0 col9\" >253</td>\n",
       "      <td id=\"T_36316_row0_col10\" class=\"data row0 col10\" >253</td>\n",
       "      <td id=\"T_36316_row0_col11\" class=\"data row0 col11\" >253</td>\n",
       "      <td id=\"T_36316_row0_col12\" class=\"data row0 col12\" >253</td>\n",
       "      <td id=\"T_36316_row0_col13\" class=\"data row0 col13\" >174</td>\n",
       "      <td id=\"T_36316_row0_col14\" class=\"data row0 col14\" >6</td>\n",
       "    </tr>\n",
       "    <tr>\n",
       "      <th id=\"T_36316_level0_row1\" class=\"row_heading level0 row1\" >1</th>\n",
       "      <td id=\"T_36316_row1_col0\" class=\"data row1 col0\" >0</td>\n",
       "      <td id=\"T_36316_row1_col1\" class=\"data row1 col1\" >0</td>\n",
       "      <td id=\"T_36316_row1_col2\" class=\"data row1 col2\" >43</td>\n",
       "      <td id=\"T_36316_row1_col3\" class=\"data row1 col3\" >139</td>\n",
       "      <td id=\"T_36316_row1_col4\" class=\"data row1 col4\" >224</td>\n",
       "      <td id=\"T_36316_row1_col5\" class=\"data row1 col5\" >226</td>\n",
       "      <td id=\"T_36316_row1_col6\" class=\"data row1 col6\" >252</td>\n",
       "      <td id=\"T_36316_row1_col7\" class=\"data row1 col7\" >253</td>\n",
       "      <td id=\"T_36316_row1_col8\" class=\"data row1 col8\" >252</td>\n",
       "      <td id=\"T_36316_row1_col9\" class=\"data row1 col9\" >252</td>\n",
       "      <td id=\"T_36316_row1_col10\" class=\"data row1 col10\" >252</td>\n",
       "      <td id=\"T_36316_row1_col11\" class=\"data row1 col11\" >252</td>\n",
       "      <td id=\"T_36316_row1_col12\" class=\"data row1 col12\" >252</td>\n",
       "      <td id=\"T_36316_row1_col13\" class=\"data row1 col13\" >252</td>\n",
       "      <td id=\"T_36316_row1_col14\" class=\"data row1 col14\" >158</td>\n",
       "    </tr>\n",
       "    <tr>\n",
       "      <th id=\"T_36316_level0_row2\" class=\"row_heading level0 row2\" >2</th>\n",
       "      <td id=\"T_36316_row2_col0\" class=\"data row2 col0\" >0</td>\n",
       "      <td id=\"T_36316_row2_col1\" class=\"data row2 col1\" >0</td>\n",
       "      <td id=\"T_36316_row2_col2\" class=\"data row2 col2\" >178</td>\n",
       "      <td id=\"T_36316_row2_col3\" class=\"data row2 col3\" >252</td>\n",
       "      <td id=\"T_36316_row2_col4\" class=\"data row2 col4\" >252</td>\n",
       "      <td id=\"T_36316_row2_col5\" class=\"data row2 col5\" >252</td>\n",
       "      <td id=\"T_36316_row2_col6\" class=\"data row2 col6\" >252</td>\n",
       "      <td id=\"T_36316_row2_col7\" class=\"data row2 col7\" >253</td>\n",
       "      <td id=\"T_36316_row2_col8\" class=\"data row2 col8\" >252</td>\n",
       "      <td id=\"T_36316_row2_col9\" class=\"data row2 col9\" >252</td>\n",
       "      <td id=\"T_36316_row2_col10\" class=\"data row2 col10\" >252</td>\n",
       "      <td id=\"T_36316_row2_col11\" class=\"data row2 col11\" >252</td>\n",
       "      <td id=\"T_36316_row2_col12\" class=\"data row2 col12\" >252</td>\n",
       "      <td id=\"T_36316_row2_col13\" class=\"data row2 col13\" >252</td>\n",
       "      <td id=\"T_36316_row2_col14\" class=\"data row2 col14\" >252</td>\n",
       "    </tr>\n",
       "    <tr>\n",
       "      <th id=\"T_36316_level0_row3\" class=\"row_heading level0 row3\" >3</th>\n",
       "      <td id=\"T_36316_row3_col0\" class=\"data row3 col0\" >0</td>\n",
       "      <td id=\"T_36316_row3_col1\" class=\"data row3 col1\" >0</td>\n",
       "      <td id=\"T_36316_row3_col2\" class=\"data row3 col2\" >109</td>\n",
       "      <td id=\"T_36316_row3_col3\" class=\"data row3 col3\" >252</td>\n",
       "      <td id=\"T_36316_row3_col4\" class=\"data row3 col4\" >252</td>\n",
       "      <td id=\"T_36316_row3_col5\" class=\"data row3 col5\" >230</td>\n",
       "      <td id=\"T_36316_row3_col6\" class=\"data row3 col6\" >132</td>\n",
       "      <td id=\"T_36316_row3_col7\" class=\"data row3 col7\" >133</td>\n",
       "      <td id=\"T_36316_row3_col8\" class=\"data row3 col8\" >132</td>\n",
       "      <td id=\"T_36316_row3_col9\" class=\"data row3 col9\" >132</td>\n",
       "      <td id=\"T_36316_row3_col10\" class=\"data row3 col10\" >189</td>\n",
       "      <td id=\"T_36316_row3_col11\" class=\"data row3 col11\" >252</td>\n",
       "      <td id=\"T_36316_row3_col12\" class=\"data row3 col12\" >252</td>\n",
       "      <td id=\"T_36316_row3_col13\" class=\"data row3 col13\" >252</td>\n",
       "      <td id=\"T_36316_row3_col14\" class=\"data row3 col14\" >252</td>\n",
       "    </tr>\n",
       "    <tr>\n",
       "      <th id=\"T_36316_level0_row4\" class=\"row_heading level0 row4\" >4</th>\n",
       "      <td id=\"T_36316_row4_col0\" class=\"data row4 col0\" >0</td>\n",
       "      <td id=\"T_36316_row4_col1\" class=\"data row4 col1\" >0</td>\n",
       "      <td id=\"T_36316_row4_col2\" class=\"data row4 col2\" >4</td>\n",
       "      <td id=\"T_36316_row4_col3\" class=\"data row4 col3\" >29</td>\n",
       "      <td id=\"T_36316_row4_col4\" class=\"data row4 col4\" >29</td>\n",
       "      <td id=\"T_36316_row4_col5\" class=\"data row4 col5\" >24</td>\n",
       "      <td id=\"T_36316_row4_col6\" class=\"data row4 col6\" >0</td>\n",
       "      <td id=\"T_36316_row4_col7\" class=\"data row4 col7\" >0</td>\n",
       "      <td id=\"T_36316_row4_col8\" class=\"data row4 col8\" >0</td>\n",
       "      <td id=\"T_36316_row4_col9\" class=\"data row4 col9\" >0</td>\n",
       "      <td id=\"T_36316_row4_col10\" class=\"data row4 col10\" >14</td>\n",
       "      <td id=\"T_36316_row4_col11\" class=\"data row4 col11\" >226</td>\n",
       "      <td id=\"T_36316_row4_col12\" class=\"data row4 col12\" >252</td>\n",
       "      <td id=\"T_36316_row4_col13\" class=\"data row4 col13\" >252</td>\n",
       "      <td id=\"T_36316_row4_col14\" class=\"data row4 col14\" >172</td>\n",
       "    </tr>\n",
       "    <tr>\n",
       "      <th id=\"T_36316_level0_row5\" class=\"row_heading level0 row5\" >5</th>\n",
       "      <td id=\"T_36316_row5_col0\" class=\"data row5 col0\" >0</td>\n",
       "      <td id=\"T_36316_row5_col1\" class=\"data row5 col1\" >0</td>\n",
       "      <td id=\"T_36316_row5_col2\" class=\"data row5 col2\" >0</td>\n",
       "      <td id=\"T_36316_row5_col3\" class=\"data row5 col3\" >0</td>\n",
       "      <td id=\"T_36316_row5_col4\" class=\"data row5 col4\" >0</td>\n",
       "      <td id=\"T_36316_row5_col5\" class=\"data row5 col5\" >0</td>\n",
       "      <td id=\"T_36316_row5_col6\" class=\"data row5 col6\" >0</td>\n",
       "      <td id=\"T_36316_row5_col7\" class=\"data row5 col7\" >0</td>\n",
       "      <td id=\"T_36316_row5_col8\" class=\"data row5 col8\" >0</td>\n",
       "      <td id=\"T_36316_row5_col9\" class=\"data row5 col9\" >0</td>\n",
       "      <td id=\"T_36316_row5_col10\" class=\"data row5 col10\" >85</td>\n",
       "      <td id=\"T_36316_row5_col11\" class=\"data row5 col11\" >243</td>\n",
       "      <td id=\"T_36316_row5_col12\" class=\"data row5 col12\" >252</td>\n",
       "      <td id=\"T_36316_row5_col13\" class=\"data row5 col13\" >252</td>\n",
       "      <td id=\"T_36316_row5_col14\" class=\"data row5 col14\" >144</td>\n",
       "    </tr>\n",
       "    <tr>\n",
       "      <th id=\"T_36316_level0_row6\" class=\"row_heading level0 row6\" >6</th>\n",
       "      <td id=\"T_36316_row6_col0\" class=\"data row6 col0\" >0</td>\n",
       "      <td id=\"T_36316_row6_col1\" class=\"data row6 col1\" >0</td>\n",
       "      <td id=\"T_36316_row6_col2\" class=\"data row6 col2\" >0</td>\n",
       "      <td id=\"T_36316_row6_col3\" class=\"data row6 col3\" >0</td>\n",
       "      <td id=\"T_36316_row6_col4\" class=\"data row6 col4\" >0</td>\n",
       "      <td id=\"T_36316_row6_col5\" class=\"data row6 col5\" >0</td>\n",
       "      <td id=\"T_36316_row6_col6\" class=\"data row6 col6\" >0</td>\n",
       "      <td id=\"T_36316_row6_col7\" class=\"data row6 col7\" >0</td>\n",
       "      <td id=\"T_36316_row6_col8\" class=\"data row6 col8\" >0</td>\n",
       "      <td id=\"T_36316_row6_col9\" class=\"data row6 col9\" >88</td>\n",
       "      <td id=\"T_36316_row6_col10\" class=\"data row6 col10\" >189</td>\n",
       "      <td id=\"T_36316_row6_col11\" class=\"data row6 col11\" >252</td>\n",
       "      <td id=\"T_36316_row6_col12\" class=\"data row6 col12\" >252</td>\n",
       "      <td id=\"T_36316_row6_col13\" class=\"data row6 col13\" >252</td>\n",
       "      <td id=\"T_36316_row6_col14\" class=\"data row6 col14\" >14</td>\n",
       "    </tr>\n",
       "    <tr>\n",
       "      <th id=\"T_36316_level0_row7\" class=\"row_heading level0 row7\" >7</th>\n",
       "      <td id=\"T_36316_row7_col0\" class=\"data row7 col0\" >0</td>\n",
       "      <td id=\"T_36316_row7_col1\" class=\"data row7 col1\" >0</td>\n",
       "      <td id=\"T_36316_row7_col2\" class=\"data row7 col2\" >0</td>\n",
       "      <td id=\"T_36316_row7_col3\" class=\"data row7 col3\" >0</td>\n",
       "      <td id=\"T_36316_row7_col4\" class=\"data row7 col4\" >0</td>\n",
       "      <td id=\"T_36316_row7_col5\" class=\"data row7 col5\" >0</td>\n",
       "      <td id=\"T_36316_row7_col6\" class=\"data row7 col6\" >0</td>\n",
       "      <td id=\"T_36316_row7_col7\" class=\"data row7 col7\" >91</td>\n",
       "      <td id=\"T_36316_row7_col8\" class=\"data row7 col8\" >212</td>\n",
       "      <td id=\"T_36316_row7_col9\" class=\"data row7 col9\" >247</td>\n",
       "      <td id=\"T_36316_row7_col10\" class=\"data row7 col10\" >252</td>\n",
       "      <td id=\"T_36316_row7_col11\" class=\"data row7 col11\" >252</td>\n",
       "      <td id=\"T_36316_row7_col12\" class=\"data row7 col12\" >252</td>\n",
       "      <td id=\"T_36316_row7_col13\" class=\"data row7 col13\" >204</td>\n",
       "      <td id=\"T_36316_row7_col14\" class=\"data row7 col14\" >9</td>\n",
       "    </tr>\n",
       "    <tr>\n",
       "      <th id=\"T_36316_level0_row8\" class=\"row_heading level0 row8\" >8</th>\n",
       "      <td id=\"T_36316_row8_col0\" class=\"data row8 col0\" >0</td>\n",
       "      <td id=\"T_36316_row8_col1\" class=\"data row8 col1\" >0</td>\n",
       "      <td id=\"T_36316_row8_col2\" class=\"data row8 col2\" >32</td>\n",
       "      <td id=\"T_36316_row8_col3\" class=\"data row8 col3\" >125</td>\n",
       "      <td id=\"T_36316_row8_col4\" class=\"data row8 col4\" >193</td>\n",
       "      <td id=\"T_36316_row8_col5\" class=\"data row8 col5\" >193</td>\n",
       "      <td id=\"T_36316_row8_col6\" class=\"data row8 col6\" >193</td>\n",
       "      <td id=\"T_36316_row8_col7\" class=\"data row8 col7\" >253</td>\n",
       "      <td id=\"T_36316_row8_col8\" class=\"data row8 col8\" >252</td>\n",
       "      <td id=\"T_36316_row8_col9\" class=\"data row8 col9\" >252</td>\n",
       "      <td id=\"T_36316_row8_col10\" class=\"data row8 col10\" >252</td>\n",
       "      <td id=\"T_36316_row8_col11\" class=\"data row8 col11\" >238</td>\n",
       "      <td id=\"T_36316_row8_col12\" class=\"data row8 col12\" >102</td>\n",
       "      <td id=\"T_36316_row8_col13\" class=\"data row8 col13\" >28</td>\n",
       "      <td id=\"T_36316_row8_col14\" class=\"data row8 col14\" >0</td>\n",
       "    </tr>\n",
       "    <tr>\n",
       "      <th id=\"T_36316_level0_row9\" class=\"row_heading level0 row9\" >9</th>\n",
       "      <td id=\"T_36316_row9_col0\" class=\"data row9 col0\" >0</td>\n",
       "      <td id=\"T_36316_row9_col1\" class=\"data row9 col1\" >45</td>\n",
       "      <td id=\"T_36316_row9_col2\" class=\"data row9 col2\" >222</td>\n",
       "      <td id=\"T_36316_row9_col3\" class=\"data row9 col3\" >252</td>\n",
       "      <td id=\"T_36316_row9_col4\" class=\"data row9 col4\" >252</td>\n",
       "      <td id=\"T_36316_row9_col5\" class=\"data row9 col5\" >252</td>\n",
       "      <td id=\"T_36316_row9_col6\" class=\"data row9 col6\" >252</td>\n",
       "      <td id=\"T_36316_row9_col7\" class=\"data row9 col7\" >253</td>\n",
       "      <td id=\"T_36316_row9_col8\" class=\"data row9 col8\" >252</td>\n",
       "      <td id=\"T_36316_row9_col9\" class=\"data row9 col9\" >252</td>\n",
       "      <td id=\"T_36316_row9_col10\" class=\"data row9 col10\" >252</td>\n",
       "      <td id=\"T_36316_row9_col11\" class=\"data row9 col11\" >177</td>\n",
       "      <td id=\"T_36316_row9_col12\" class=\"data row9 col12\" >0</td>\n",
       "      <td id=\"T_36316_row9_col13\" class=\"data row9 col13\" >0</td>\n",
       "      <td id=\"T_36316_row9_col14\" class=\"data row9 col14\" >0</td>\n",
       "    </tr>\n",
       "    <tr>\n",
       "      <th id=\"T_36316_level0_row10\" class=\"row_heading level0 row10\" >10</th>\n",
       "      <td id=\"T_36316_row10_col0\" class=\"data row10 col0\" >0</td>\n",
       "      <td id=\"T_36316_row10_col1\" class=\"data row10 col1\" >45</td>\n",
       "      <td id=\"T_36316_row10_col2\" class=\"data row10 col2\" >223</td>\n",
       "      <td id=\"T_36316_row10_col3\" class=\"data row10 col3\" >253</td>\n",
       "      <td id=\"T_36316_row10_col4\" class=\"data row10 col4\" >253</td>\n",
       "      <td id=\"T_36316_row10_col5\" class=\"data row10 col5\" >253</td>\n",
       "      <td id=\"T_36316_row10_col6\" class=\"data row10 col6\" >253</td>\n",
       "      <td id=\"T_36316_row10_col7\" class=\"data row10 col7\" >255</td>\n",
       "      <td id=\"T_36316_row10_col8\" class=\"data row10 col8\" >253</td>\n",
       "      <td id=\"T_36316_row10_col9\" class=\"data row10 col9\" >253</td>\n",
       "      <td id=\"T_36316_row10_col10\" class=\"data row10 col10\" >253</td>\n",
       "      <td id=\"T_36316_row10_col11\" class=\"data row10 col11\" >253</td>\n",
       "      <td id=\"T_36316_row10_col12\" class=\"data row10 col12\" >74</td>\n",
       "      <td id=\"T_36316_row10_col13\" class=\"data row10 col13\" >0</td>\n",
       "      <td id=\"T_36316_row10_col14\" class=\"data row10 col14\" >0</td>\n",
       "    </tr>\n",
       "    <tr>\n",
       "      <th id=\"T_36316_level0_row11\" class=\"row_heading level0 row11\" >11</th>\n",
       "      <td id=\"T_36316_row11_col0\" class=\"data row11 col0\" >0</td>\n",
       "      <td id=\"T_36316_row11_col1\" class=\"data row11 col1\" >0</td>\n",
       "      <td id=\"T_36316_row11_col2\" class=\"data row11 col2\" >31</td>\n",
       "      <td id=\"T_36316_row11_col3\" class=\"data row11 col3\" >123</td>\n",
       "      <td id=\"T_36316_row11_col4\" class=\"data row11 col4\" >52</td>\n",
       "      <td id=\"T_36316_row11_col5\" class=\"data row11 col5\" >44</td>\n",
       "      <td id=\"T_36316_row11_col6\" class=\"data row11 col6\" >44</td>\n",
       "      <td id=\"T_36316_row11_col7\" class=\"data row11 col7\" >44</td>\n",
       "      <td id=\"T_36316_row11_col8\" class=\"data row11 col8\" >44</td>\n",
       "      <td id=\"T_36316_row11_col9\" class=\"data row11 col9\" >143</td>\n",
       "      <td id=\"T_36316_row11_col10\" class=\"data row11 col10\" >252</td>\n",
       "      <td id=\"T_36316_row11_col11\" class=\"data row11 col11\" >252</td>\n",
       "      <td id=\"T_36316_row11_col12\" class=\"data row11 col12\" >74</td>\n",
       "      <td id=\"T_36316_row11_col13\" class=\"data row11 col13\" >0</td>\n",
       "      <td id=\"T_36316_row11_col14\" class=\"data row11 col14\" >0</td>\n",
       "    </tr>\n",
       "    <tr>\n",
       "      <th id=\"T_36316_level0_row12\" class=\"row_heading level0 row12\" >12</th>\n",
       "      <td id=\"T_36316_row12_col0\" class=\"data row12 col0\" >0</td>\n",
       "      <td id=\"T_36316_row12_col1\" class=\"data row12 col1\" >0</td>\n",
       "      <td id=\"T_36316_row12_col2\" class=\"data row12 col2\" >0</td>\n",
       "      <td id=\"T_36316_row12_col3\" class=\"data row12 col3\" >0</td>\n",
       "      <td id=\"T_36316_row12_col4\" class=\"data row12 col4\" >0</td>\n",
       "      <td id=\"T_36316_row12_col5\" class=\"data row12 col5\" >0</td>\n",
       "      <td id=\"T_36316_row12_col6\" class=\"data row12 col6\" >0</td>\n",
       "      <td id=\"T_36316_row12_col7\" class=\"data row12 col7\" >0</td>\n",
       "      <td id=\"T_36316_row12_col8\" class=\"data row12 col8\" >0</td>\n",
       "      <td id=\"T_36316_row12_col9\" class=\"data row12 col9\" >15</td>\n",
       "      <td id=\"T_36316_row12_col10\" class=\"data row12 col10\" >252</td>\n",
       "      <td id=\"T_36316_row12_col11\" class=\"data row12 col11\" >252</td>\n",
       "      <td id=\"T_36316_row12_col12\" class=\"data row12 col12\" >74</td>\n",
       "      <td id=\"T_36316_row12_col13\" class=\"data row12 col13\" >0</td>\n",
       "      <td id=\"T_36316_row12_col14\" class=\"data row12 col14\" >0</td>\n",
       "    </tr>\n",
       "    <tr>\n",
       "      <th id=\"T_36316_level0_row13\" class=\"row_heading level0 row13\" >13</th>\n",
       "      <td id=\"T_36316_row13_col0\" class=\"data row13 col0\" >0</td>\n",
       "      <td id=\"T_36316_row13_col1\" class=\"data row13 col1\" >0</td>\n",
       "      <td id=\"T_36316_row13_col2\" class=\"data row13 col2\" >0</td>\n",
       "      <td id=\"T_36316_row13_col3\" class=\"data row13 col3\" >0</td>\n",
       "      <td id=\"T_36316_row13_col4\" class=\"data row13 col4\" >0</td>\n",
       "      <td id=\"T_36316_row13_col5\" class=\"data row13 col5\" >0</td>\n",
       "      <td id=\"T_36316_row13_col6\" class=\"data row13 col6\" >0</td>\n",
       "      <td id=\"T_36316_row13_col7\" class=\"data row13 col7\" >0</td>\n",
       "      <td id=\"T_36316_row13_col8\" class=\"data row13 col8\" >0</td>\n",
       "      <td id=\"T_36316_row13_col9\" class=\"data row13 col9\" >86</td>\n",
       "      <td id=\"T_36316_row13_col10\" class=\"data row13 col10\" >252</td>\n",
       "      <td id=\"T_36316_row13_col11\" class=\"data row13 col11\" >252</td>\n",
       "      <td id=\"T_36316_row13_col12\" class=\"data row13 col12\" >74</td>\n",
       "      <td id=\"T_36316_row13_col13\" class=\"data row13 col13\" >0</td>\n",
       "      <td id=\"T_36316_row13_col14\" class=\"data row13 col14\" >0</td>\n",
       "    </tr>\n",
       "    <tr>\n",
       "      <th id=\"T_36316_level0_row14\" class=\"row_heading level0 row14\" >14</th>\n",
       "      <td id=\"T_36316_row14_col0\" class=\"data row14 col0\" >75</td>\n",
       "      <td id=\"T_36316_row14_col1\" class=\"data row14 col1\" >9</td>\n",
       "      <td id=\"T_36316_row14_col2\" class=\"data row14 col2\" >0</td>\n",
       "      <td id=\"T_36316_row14_col3\" class=\"data row14 col3\" >0</td>\n",
       "      <td id=\"T_36316_row14_col4\" class=\"data row14 col4\" >0</td>\n",
       "      <td id=\"T_36316_row14_col5\" class=\"data row14 col5\" >0</td>\n",
       "      <td id=\"T_36316_row14_col6\" class=\"data row14 col6\" >0</td>\n",
       "      <td id=\"T_36316_row14_col7\" class=\"data row14 col7\" >0</td>\n",
       "      <td id=\"T_36316_row14_col8\" class=\"data row14 col8\" >98</td>\n",
       "      <td id=\"T_36316_row14_col9\" class=\"data row14 col9\" >242</td>\n",
       "      <td id=\"T_36316_row14_col10\" class=\"data row14 col10\" >252</td>\n",
       "      <td id=\"T_36316_row14_col11\" class=\"data row14 col11\" >252</td>\n",
       "      <td id=\"T_36316_row14_col12\" class=\"data row14 col12\" >74</td>\n",
       "      <td id=\"T_36316_row14_col13\" class=\"data row14 col13\" >0</td>\n",
       "      <td id=\"T_36316_row14_col14\" class=\"data row14 col14\" >0</td>\n",
       "    </tr>\n",
       "    <tr>\n",
       "      <th id=\"T_36316_level0_row15\" class=\"row_heading level0 row15\" >15</th>\n",
       "      <td id=\"T_36316_row15_col0\" class=\"data row15 col0\" >252</td>\n",
       "      <td id=\"T_36316_row15_col1\" class=\"data row15 col1\" >29</td>\n",
       "      <td id=\"T_36316_row15_col2\" class=\"data row15 col2\" >0</td>\n",
       "      <td id=\"T_36316_row15_col3\" class=\"data row15 col3\" >0</td>\n",
       "      <td id=\"T_36316_row15_col4\" class=\"data row15 col4\" >0</td>\n",
       "      <td id=\"T_36316_row15_col5\" class=\"data row15 col5\" >0</td>\n",
       "      <td id=\"T_36316_row15_col6\" class=\"data row15 col6\" >18</td>\n",
       "      <td id=\"T_36316_row15_col7\" class=\"data row15 col7\" >92</td>\n",
       "      <td id=\"T_36316_row15_col8\" class=\"data row15 col8\" >239</td>\n",
       "      <td id=\"T_36316_row15_col9\" class=\"data row15 col9\" >252</td>\n",
       "      <td id=\"T_36316_row15_col10\" class=\"data row15 col10\" >252</td>\n",
       "      <td id=\"T_36316_row15_col11\" class=\"data row15 col11\" >243</td>\n",
       "      <td id=\"T_36316_row15_col12\" class=\"data row15 col12\" >65</td>\n",
       "      <td id=\"T_36316_row15_col13\" class=\"data row15 col13\" >0</td>\n",
       "      <td id=\"T_36316_row15_col14\" class=\"data row15 col14\" >0</td>\n",
       "    </tr>\n",
       "    <tr>\n",
       "      <th id=\"T_36316_level0_row16\" class=\"row_heading level0 row16\" >16</th>\n",
       "      <td id=\"T_36316_row16_col0\" class=\"data row16 col0\" >252</td>\n",
       "      <td id=\"T_36316_row16_col1\" class=\"data row16 col1\" >147</td>\n",
       "      <td id=\"T_36316_row16_col2\" class=\"data row16 col2\" >134</td>\n",
       "      <td id=\"T_36316_row16_col3\" class=\"data row16 col3\" >134</td>\n",
       "      <td id=\"T_36316_row16_col4\" class=\"data row16 col4\" >134</td>\n",
       "      <td id=\"T_36316_row16_col5\" class=\"data row16 col5\" >134</td>\n",
       "      <td id=\"T_36316_row16_col6\" class=\"data row16 col6\" >203</td>\n",
       "      <td id=\"T_36316_row16_col7\" class=\"data row16 col7\" >253</td>\n",
       "      <td id=\"T_36316_row16_col8\" class=\"data row16 col8\" >252</td>\n",
       "      <td id=\"T_36316_row16_col9\" class=\"data row16 col9\" >252</td>\n",
       "      <td id=\"T_36316_row16_col10\" class=\"data row16 col10\" >188</td>\n",
       "      <td id=\"T_36316_row16_col11\" class=\"data row16 col11\" >83</td>\n",
       "      <td id=\"T_36316_row16_col12\" class=\"data row16 col12\" >0</td>\n",
       "      <td id=\"T_36316_row16_col13\" class=\"data row16 col13\" >0</td>\n",
       "      <td id=\"T_36316_row16_col14\" class=\"data row16 col14\" >0</td>\n",
       "    </tr>\n",
       "    <tr>\n",
       "      <th id=\"T_36316_level0_row17\" class=\"row_heading level0 row17\" >17</th>\n",
       "      <td id=\"T_36316_row17_col0\" class=\"data row17 col0\" >252</td>\n",
       "      <td id=\"T_36316_row17_col1\" class=\"data row17 col1\" >252</td>\n",
       "      <td id=\"T_36316_row17_col2\" class=\"data row17 col2\" >252</td>\n",
       "      <td id=\"T_36316_row17_col3\" class=\"data row17 col3\" >252</td>\n",
       "      <td id=\"T_36316_row17_col4\" class=\"data row17 col4\" >252</td>\n",
       "      <td id=\"T_36316_row17_col5\" class=\"data row17 col5\" >252</td>\n",
       "      <td id=\"T_36316_row17_col6\" class=\"data row17 col6\" >252</td>\n",
       "      <td id=\"T_36316_row17_col7\" class=\"data row17 col7\" >253</td>\n",
       "      <td id=\"T_36316_row17_col8\" class=\"data row17 col8\" >230</td>\n",
       "      <td id=\"T_36316_row17_col9\" class=\"data row17 col9\" >153</td>\n",
       "      <td id=\"T_36316_row17_col10\" class=\"data row17 col10\" >8</td>\n",
       "      <td id=\"T_36316_row17_col11\" class=\"data row17 col11\" >0</td>\n",
       "      <td id=\"T_36316_row17_col12\" class=\"data row17 col12\" >0</td>\n",
       "      <td id=\"T_36316_row17_col13\" class=\"data row17 col13\" >0</td>\n",
       "      <td id=\"T_36316_row17_col14\" class=\"data row17 col14\" >0</td>\n",
       "    </tr>\n",
       "    <tr>\n",
       "      <th id=\"T_36316_level0_row18\" class=\"row_heading level0 row18\" >18</th>\n",
       "      <td id=\"T_36316_row18_col0\" class=\"data row18 col0\" >252</td>\n",
       "      <td id=\"T_36316_row18_col1\" class=\"data row18 col1\" >252</td>\n",
       "      <td id=\"T_36316_row18_col2\" class=\"data row18 col2\" >252</td>\n",
       "      <td id=\"T_36316_row18_col3\" class=\"data row18 col3\" >252</td>\n",
       "      <td id=\"T_36316_row18_col4\" class=\"data row18 col4\" >252</td>\n",
       "      <td id=\"T_36316_row18_col5\" class=\"data row18 col5\" >217</td>\n",
       "      <td id=\"T_36316_row18_col6\" class=\"data row18 col6\" >207</td>\n",
       "      <td id=\"T_36316_row18_col7\" class=\"data row18 col7\" >146</td>\n",
       "      <td id=\"T_36316_row18_col8\" class=\"data row18 col8\" >45</td>\n",
       "      <td id=\"T_36316_row18_col9\" class=\"data row18 col9\" >0</td>\n",
       "      <td id=\"T_36316_row18_col10\" class=\"data row18 col10\" >0</td>\n",
       "      <td id=\"T_36316_row18_col11\" class=\"data row18 col11\" >0</td>\n",
       "      <td id=\"T_36316_row18_col12\" class=\"data row18 col12\" >0</td>\n",
       "      <td id=\"T_36316_row18_col13\" class=\"data row18 col13\" >0</td>\n",
       "      <td id=\"T_36316_row18_col14\" class=\"data row18 col14\" >0</td>\n",
       "    </tr>\n",
       "  </tbody>\n",
       "</table>\n"
      ],
      "text/plain": [
       "<pandas.io.formats.style.Styler at 0x795eb2fd7a90>"
      ]
     },
     "execution_count": 34,
     "metadata": {},
     "output_type": "execute_result"
    }
   ],
   "source": [
    "df.style.set_properties(**{'font-size':'8pt'}).background_gradient('Greys')"
   ]
  },
  {
   "cell_type": "markdown",
   "metadata": {
    "id": "kmAph7qwn4zL"
   },
   "source": [
    "### <font color = 'dodgerblue'>**Step 3**\n",
    "\n",
    "<font color = 'dodgerblue'>**Convert threes and sevens generated earlier to float and and take the mean along dimension 0.**\n",
    "\n",
    "Here we are generating an average image by taking the average of each pixel across images."
   ]
  },
  {
   "cell_type": "code",
   "execution_count": 35,
   "metadata": {
    "id": "CPkgOHDwPgSp"
   },
   "outputs": [],
   "source": [
    "mean_threes =  threes.mean(dim=0, dtype=torch.float32)\n",
    "mean_sevens =  sevens.mean(dim=0, dtype=torch.float32)"
   ]
  },
  {
   "cell_type": "code",
   "execution_count": 36,
   "metadata": {
    "colab": {
     "base_uri": "https://localhost:8080/"
    },
    "id": "Pyn4fHmcRLvw",
    "outputId": "5d7787cf-dc9d-43be-e7ae-66cca8e235ea"
   },
   "outputs": [
    {
     "data": {
      "text/plain": [
       "torch.Size([28, 28])"
      ]
     },
     "execution_count": 36,
     "metadata": {},
     "output_type": "execute_result"
    }
   ],
   "source": [
    "mean_threes.shape\n",
    "mean_sevens.shape"
   ]
  },
  {
   "cell_type": "code",
   "execution_count": 37,
   "metadata": {
    "colab": {
     "base_uri": "https://localhost:8080/",
     "height": 90
    },
    "id": "R526984dRZxi",
    "outputId": "56b74afd-2e4f-4d70-abfe-ce1e348be7f5"
   },
   "outputs": [
    {
     "data": {
      "image/png": "[encoded data removed]",
      "text/plain": [
       "<PIL.Image.Image image mode=RGB size=28x28>"
      ]
     },
     "metadata": {},
     "output_type": "display_data"
    },
    {
     "name": "stdout",
     "output_type": "stream",
     "text": [
      "\n"
     ]
    },
    {
     "data": {
      "image/png": "[encoded data removed]",
      "text/plain": [
       "<PIL.Image.Image image mode=RGB size=28x28>"
      ]
     },
     "metadata": {},
     "output_type": "display_data"
    }
   ],
   "source": [
    "cv2_imshow(mean_threes.unsqueeze(dim=2).numpy())\n",
    "print()\n",
    "cv2_imshow(mean_sevens.unsqueeze(dim=2).numpy())"
   ]
  },
  {
   "cell_type": "markdown",
   "metadata": {
    "id": "wWdE59Ano6rz"
   },
   "source": [
    "## <font color = 'dodgerblue'>**Prediction for validation images**\n",
    "\n",
    "We will calculate the distance of each validation image from the mean_threes and mean_sevens. If the validation image is closest to mean_threes then we will predict 1 else we will predict 0."
   ]
  },
  {
   "cell_type": "markdown",
   "metadata": {
    "id": "KtGzpmK-pifF"
   },
   "source": [
    "## <font color = 'dodgerblue'>**Get Valid Dataset**"
   ]
  },
  {
   "cell_type": "code",
   "execution_count": 38,
   "metadata": {
    "id": "dlmGwOd8R4JO"
   },
   "outputs": [],
   "source": [
    "validset = torchvision.datasets.MNIST(root = data_folder,\n",
    "                                      train = False,\n",
    "                                      download = True,\n",
    "                                      )"
   ]
  },
  {
   "cell_type": "code",
   "execution_count": 39,
   "metadata": {
    "id": "Zktf1nWDR9fk"
   },
   "outputs": [],
   "source": [
    "# get the mask\n",
    "idx3 = validset.targets==3\n",
    "idx7 = validset.targets==7"
   ]
  },
  {
   "cell_type": "code",
   "execution_count": 40,
   "metadata": {
    "colab": {
     "base_uri": "https://localhost:8080/"
    },
    "id": "9PgJPjnDZhG4",
    "outputId": "b562dc7a-bf01-4f74-c3bb-93560fded9b1"
   },
   "outputs": [
    {
     "data": {
      "text/plain": [
       "torch.Size([10000, 28, 28])"
      ]
     },
     "execution_count": 40,
     "metadata": {},
     "output_type": "execute_result"
    }
   ],
   "source": [
    "validset.data.shape"
   ]
  },
  {
   "cell_type": "code",
   "execution_count": 41,
   "metadata": {
    "id": "IGxAzO25SFfu"
   },
   "outputs": [],
   "source": [
    "# get images and labels using the mask\n",
    "valid_data_3_7 = validset.data[idx3+idx7]\n",
    "valid_targets_3_7 = validset.targets[idx3 + idx7]"
   ]
  },
  {
   "cell_type": "code",
   "execution_count": 42,
   "metadata": {
    "colab": {
     "base_uri": "https://localhost:8080/"
    },
    "id": "_N7JhIm-ZRVS",
    "outputId": "3a088c20-9798-4ce8-c127-d6a9e4a9475e"
   },
   "outputs": [
    {
     "data": {
      "text/plain": [
       "torch.Size([2038, 28, 28])"
      ]
     },
     "execution_count": 42,
     "metadata": {},
     "output_type": "execute_result"
    }
   ],
   "source": [
    "# check the shape of the inputs (images)\n",
    "# we have 2038 images with size 28 x 28.\n",
    "valid_data_3_7.shape"
   ]
  },
  {
   "cell_type": "code",
   "execution_count": 43,
   "metadata": {
    "colab": {
     "base_uri": "https://localhost:8080/"
    },
    "id": "G-fFULgwbXJR",
    "outputId": "671f932b-3eec-4270-e173-0515d60f8eb4"
   },
   "outputs": [
    {
     "data": {
      "text/plain": [
       "tensor([7, 7, 3,  ..., 3, 7, 3])"
      ]
     },
     "execution_count": 43,
     "metadata": {},
     "output_type": "execute_result"
    }
   ],
   "source": [
    "# lables for valid dataset\n",
    "valid_targets_3_7"
   ]
  },
  {
   "cell_type": "code",
   "execution_count": 44,
   "metadata": {
    "id": "F_m0zx60WKR_"
   },
   "outputs": [],
   "source": [
    "# change the lable to 1 where the label was 3\n",
    "valid_targets_3_7[valid_targets_3_7==3] = 1"
   ]
  },
  {
   "cell_type": "code",
   "execution_count": 45,
   "metadata": {
    "id": "rTN_d9QlYLxE"
   },
   "outputs": [],
   "source": [
    "# change the lable to 0 where the label was 7\n",
    "valid_targets_3_7[valid_targets_3_7==7] = 0"
   ]
  },
  {
   "cell_type": "code",
   "execution_count": 46,
   "metadata": {
    "colab": {
     "base_uri": "https://localhost:8080/"
    },
    "id": "tlZy31HiYO1d",
    "outputId": "aeed23e1-91ab-4f69-9ec6-088c42a65d05"
   },
   "outputs": [
    {
     "data": {
      "text/plain": [
       "tensor([0, 1])"
      ]
     },
     "execution_count": 46,
     "metadata": {},
     "output_type": "execute_result"
    }
   ],
   "source": [
    "valid_targets_3_7.unique()"
   ]
  },
  {
   "cell_type": "code",
   "execution_count": 47,
   "metadata": {
    "colab": {
     "base_uri": "https://localhost:8080/"
    },
    "id": "PArUSruZWeSt",
    "outputId": "25bf62bd-6211-4705-adc3-e6c9c0207130"
   },
   "outputs": [
    {
     "data": {
      "text/plain": [
       "tensor([0, 0, 1,  ..., 1, 0, 1])"
      ]
     },
     "execution_count": 47,
     "metadata": {},
     "output_type": "execute_result"
    }
   ],
   "source": [
    "valid_targets_3_7"
   ]
  },
  {
   "cell_type": "code",
   "execution_count": 48,
   "metadata": {
    "colab": {
     "base_uri": "https://localhost:8080/"
    },
    "id": "2vL2fkbfUdsJ",
    "outputId": "5b6048ae-bfdb-41af-f192-c92234196c7e"
   },
   "outputs": [
    {
     "data": {
      "text/plain": [
       "torch.Size([2038, 28, 28])"
      ]
     },
     "execution_count": 48,
     "metadata": {},
     "output_type": "execute_result"
    }
   ],
   "source": [
    "valid_data_3_7.shape"
   ]
  },
  {
   "cell_type": "markdown",
   "metadata": {
    "id": "M8cfHMRMvbVy"
   },
   "source": [
    "## <font color = 'dodgerblue'>**Distance between images**"
   ]
  },
  {
   "cell_type": "markdown",
   "metadata": {
    "id": "agtAtYjqrEOL"
   },
   "source": [
    "### <font color = 'dodgerblue'>**Task4**\n",
    "\n",
    "<font color = 'dodgerblue'>**Write a function to calculate the distance between two images a and b.**\n",
    " - Calculate the difference between corresponding pixels of two images.\n",
    " - Calculate square of differences.\n",
    " - Take the mean (take the mean across last two dimensions (-1, -2) of the square of the differences and then take the square root."
   ]
  },
  {
   "cell_type": "code",
   "execution_count": 49,
   "metadata": {
    "id": "9xjUfzefScaH"
   },
   "outputs": [],
   "source": [
    "def dist_images(a, b):\n",
    "\n",
    "  subt = a.float() - b.float()\n",
    "  sq = subt ** 2\n",
    "  mean_dist = torch.sqrt(sq.mean((-1, -2)))\n",
    "  return mean_dist"
   ]
  },
  {
   "cell_type": "code",
   "execution_count": 50,
   "metadata": {
    "id": "AKFAl8d3UBxj"
   },
   "outputs": [],
   "source": [
    "# calculate the distance of the each image in validation set from mean_threes\n",
    "# bacause of the  broadcasting we are able to use the above function which was written to\n",
    "# calculate the distnace between two images\n",
    "valid_3_dist = dist_images(valid_data_3_7, mean_threes)"
   ]
  },
  {
   "cell_type": "code",
   "execution_count": 51,
   "metadata": {
    "id": "KCVMzoiQUWeM"
   },
   "outputs": [],
   "source": [
    "# calculate the distance of the each image in validation set from mean_sevens\n",
    "valid_7_dist = dist_images(valid_data_3_7, mean_sevens)"
   ]
  },
  {
   "cell_type": "code",
   "execution_count": 52,
   "metadata": {
    "colab": {
     "base_uri": "https://localhost:8080/"
    },
    "id": "7boi6IVqZGIG",
    "outputId": "e5c5f155-9900-40cc-f66b-707a113790db"
   },
   "outputs": [
    {
     "data": {
      "text/plain": [
       "(torch.Size([2038]), torch.Size([2038]))"
      ]
     },
     "execution_count": 52,
     "metadata": {},
     "output_type": "execute_result"
    }
   ],
   "source": [
    "# if you have done everything right, you will observe following shapes.\n",
    "valid_3_dist.shape, valid_7_dist.shape"
   ]
  },
  {
   "cell_type": "markdown",
   "metadata": {
    "id": "tT_MkbhjtW81"
   },
   "source": [
    "## <font color = 'dodgerblue'>**Prediction Using Distance**"
   ]
  },
  {
   "cell_type": "markdown",
   "metadata": {
    "id": "XeDvyaCQtzhJ"
   },
   "source": [
    "### <font color = 'dodgerblue'>**Task5**\n",
    "\n"
   ]
  },
  {
   "cell_type": "code",
   "execution_count": 53,
   "metadata": {
    "id": "QNUBIo7RVvqX"
   },
   "outputs": [],
   "source": [
    "# step 1 : generate the tensor filled with zeros that has the same shape as valid_target_3_7\n",
    "prediction =  torch.zeros_like(valid_targets_3_7)"
   ]
  },
  {
   "cell_type": "code",
   "execution_count": 54,
   "metadata": {
    "id": "kz8djoCFYpzs"
   },
   "outputs": [],
   "source": [
    "# step 2: update the tensor prediction. Update the value to 1, when valid_3_dist < valid_7_dist.\n",
    "# Hint (Generate a Boolean mask using the condition valid_3_dist < valid_7_dist and use the mask to update value to 1 )\n",
    "\n",
    "cond = (valid_3_dist < valid_7_dist)\n",
    "prediction[cond] = 1"
   ]
  },
  {
   "cell_type": "code",
   "execution_count": 55,
   "metadata": {
    "colab": {
     "base_uri": "https://localhost:8080/"
    },
    "id": "3XZXzsHBY4wY",
    "outputId": "7f6072cf-31b8-4af8-b410-747792bcabcd"
   },
   "outputs": [
    {
     "data": {
      "text/plain": [
       "tensor([0, 0, 1,  ..., 1, 0, 1])"
      ]
     },
     "execution_count": 55,
     "metadata": {},
     "output_type": "execute_result"
    }
   ],
   "source": [
    "prediction"
   ]
  },
  {
   "cell_type": "markdown",
   "metadata": {
    "id": "B0-NcIHEu8xf"
   },
   "source": [
    "## <font color = 'dodgerblue'>**Accuracy**"
   ]
  },
  {
   "cell_type": "code",
   "execution_count": 56,
   "metadata": {
    "id": "U2DDoCQRcaEY"
   },
   "outputs": [],
   "source": [
    "correct = prediction == valid_targets_3_7"
   ]
  },
  {
   "cell_type": "code",
   "execution_count": 57,
   "metadata": {
    "colab": {
     "base_uri": "https://localhost:8080/"
    },
    "id": "HIPlwvc-chGZ",
    "outputId": "99974ca4-218f-4a3e-f0bd-2c1ff63153f8"
   },
   "outputs": [
    {
     "data": {
      "text/plain": [
       "tensor([True, True, True,  ..., True, True, True])"
      ]
     },
     "execution_count": 57,
     "metadata": {},
     "output_type": "execute_result"
    }
   ],
   "source": [
    "correct"
   ]
  },
  {
   "cell_type": "code",
   "execution_count": 58,
   "metadata": {
    "colab": {
     "base_uri": "https://localhost:8080/"
    },
    "id": "mANkYga9cipY",
    "outputId": "8bb0e9cb-71cd-4f13-d5bb-439eba6a1e5b"
   },
   "outputs": [
    {
     "data": {
      "text/plain": [
       "96.6143250465393"
      ]
     },
     "execution_count": 58,
     "metadata": {},
     "output_type": "execute_result"
    }
   ],
   "source": [
    "100 * correct.float().mean().item()"
   ]
  }
 ],
 "metadata": {
  "accelerator": "GPU",
  "colab": {
   "gpuType": "T4",
   "provenance": []
  },
  "kernelspec": {
   "display_name": "Python 3 (ipykernel)",
   "language": "python",
   "name": "python3"
  },
  "language_info": {
   "codemirror_mode": {
    "name": "ipython",
    "version": 3
   },
   "file_extension": ".py",
   "mimetype": "text/x-python",
   "name": "python",
   "nbconvert_exporter": "python",
   "pygments_lexer": "ipython3",
   "version": "3.9.13"
  }
 },
 "nbformat": 4,
 "nbformat_minor": 1
}
